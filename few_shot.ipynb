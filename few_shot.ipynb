{
 "cells": [
  {
   "cell_type": "markdown",
   "id": "b3641794-3a7d-4910-b11d-a47a28c38e4c",
   "metadata": {},
   "source": [
    "## Install/import packages"
   ]
  },
  {
   "cell_type": "code",
   "execution_count": 1,
   "id": "ddab5fa0-ec81-475a-8512-9d50d4bc5a97",
   "metadata": {},
   "outputs": [
    {
     "name": "stdout",
     "output_type": "stream",
     "text": [
      "Defaulting to user installation because normal site-packages is not writeable\n",
      "Requirement already satisfied: pandas in /software/spackages/linux-rocky8-x86_64/gcc-9.5.0/anaconda3-2022.05-zyrazrj6uvrtukupqzhaslr63w7hj6in/lib/python3.9/site-packages (1.4.2)\n",
      "Requirement already satisfied: python-dateutil>=2.8.1 in /software/spackages/linux-rocky8-x86_64/gcc-9.5.0/anaconda3-2022.05-zyrazrj6uvrtukupqzhaslr63w7hj6in/lib/python3.9/site-packages (from pandas) (2.8.2)\n",
      "Requirement already satisfied: pytz>=2020.1 in /software/spackages/linux-rocky8-x86_64/gcc-9.5.0/anaconda3-2022.05-zyrazrj6uvrtukupqzhaslr63w7hj6in/lib/python3.9/site-packages (from pandas) (2021.3)\n",
      "Requirement already satisfied: numpy>=1.18.5 in /home/alshelt/.local/lib/python3.9/site-packages (from pandas) (1.22.4)\n",
      "Requirement already satisfied: six>=1.5 in /software/spackages/linux-rocky8-x86_64/gcc-9.5.0/anaconda3-2022.05-zyrazrj6uvrtukupqzhaslr63w7hj6in/lib/python3.9/site-packages (from python-dateutil>=2.8.1->pandas) (1.16.0)\n",
      "Defaulting to user installation because normal site-packages is not writeable\n",
      "Requirement already satisfied: langchain in /home/alshelt/.local/lib/python3.9/site-packages (0.0.299)\n",
      "Requirement already satisfied: requests<3,>=2 in /home/alshelt/.local/lib/python3.9/site-packages (from langchain) (2.31.0)\n",
      "Requirement already satisfied: SQLAlchemy<3,>=1.4 in /software/spackages/linux-rocky8-x86_64/gcc-9.5.0/anaconda3-2022.05-zyrazrj6uvrtukupqzhaslr63w7hj6in/lib/python3.9/site-packages (from langchain) (1.4.32)\n",
      "Requirement already satisfied: dataclasses-json<0.7,>=0.5.7 in /home/alshelt/.local/lib/python3.9/site-packages (from langchain) (0.6.0)\n",
      "Requirement already satisfied: numexpr<3.0.0,>=2.8.4 in /home/alshelt/.local/lib/python3.9/site-packages (from langchain) (2.8.6)\n",
      "Requirement already satisfied: numpy<2,>=1 in /home/alshelt/.local/lib/python3.9/site-packages (from langchain) (1.22.4)\n",
      "Requirement already satisfied: PyYAML>=5.3 in /software/spackages/linux-rocky8-x86_64/gcc-9.5.0/anaconda3-2022.05-zyrazrj6uvrtukupqzhaslr63w7hj6in/lib/python3.9/site-packages (from langchain) (6.0)\n",
      "Requirement already satisfied: aiohttp<4.0.0,>=3.8.3 in /home/alshelt/.local/lib/python3.9/site-packages (from langchain) (3.8.5)\n",
      "Requirement already satisfied: async-timeout<5.0.0,>=4.0.0 in /home/alshelt/.local/lib/python3.9/site-packages (from langchain) (4.0.3)\n",
      "Requirement already satisfied: anyio<4.0 in /software/spackages/linux-rocky8-x86_64/gcc-9.5.0/anaconda3-2022.05-zyrazrj6uvrtukupqzhaslr63w7hj6in/lib/python3.9/site-packages (from langchain) (3.5.0)\n",
      "Requirement already satisfied: tenacity<9.0.0,>=8.1.0 in /home/alshelt/.local/lib/python3.9/site-packages (from langchain) (8.2.3)\n",
      "Requirement already satisfied: pydantic<3,>=1 in /home/alshelt/.local/lib/python3.9/site-packages (from langchain) (1.10.12)\n",
      "Requirement already satisfied: jsonpatch<2.0,>=1.33 in /home/alshelt/.local/lib/python3.9/site-packages (from langchain) (1.33)\n",
      "Requirement already satisfied: langsmith<0.1.0,>=0.0.38 in /home/alshelt/.local/lib/python3.9/site-packages (from langchain) (0.0.40)\n",
      "Requirement already satisfied: multidict<7.0,>=4.5 in /home/alshelt/.local/lib/python3.9/site-packages (from aiohttp<4.0.0,>=3.8.3->langchain) (6.0.4)\n",
      "Requirement already satisfied: attrs>=17.3.0 in /software/spackages/linux-rocky8-x86_64/gcc-9.5.0/anaconda3-2022.05-zyrazrj6uvrtukupqzhaslr63w7hj6in/lib/python3.9/site-packages (from aiohttp<4.0.0,>=3.8.3->langchain) (21.4.0)\n",
      "Requirement already satisfied: frozenlist>=1.1.1 in /home/alshelt/.local/lib/python3.9/site-packages (from aiohttp<4.0.0,>=3.8.3->langchain) (1.4.0)\n",
      "Requirement already satisfied: yarl<2.0,>=1.0 in /home/alshelt/.local/lib/python3.9/site-packages (from aiohttp<4.0.0,>=3.8.3->langchain) (1.9.2)\n",
      "Requirement already satisfied: aiosignal>=1.1.2 in /home/alshelt/.local/lib/python3.9/site-packages (from aiohttp<4.0.0,>=3.8.3->langchain) (1.3.1)\n",
      "Requirement already satisfied: charset-normalizer<4.0,>=2.0 in /software/spackages/linux-rocky8-x86_64/gcc-9.5.0/anaconda3-2022.05-zyrazrj6uvrtukupqzhaslr63w7hj6in/lib/python3.9/site-packages (from aiohttp<4.0.0,>=3.8.3->langchain) (2.0.4)\n",
      "Requirement already satisfied: idna>=2.8 in /software/spackages/linux-rocky8-x86_64/gcc-9.5.0/anaconda3-2022.05-zyrazrj6uvrtukupqzhaslr63w7hj6in/lib/python3.9/site-packages (from anyio<4.0->langchain) (3.3)\n",
      "Requirement already satisfied: sniffio>=1.1 in /software/spackages/linux-rocky8-x86_64/gcc-9.5.0/anaconda3-2022.05-zyrazrj6uvrtukupqzhaslr63w7hj6in/lib/python3.9/site-packages (from anyio<4.0->langchain) (1.2.0)\n",
      "Requirement already satisfied: marshmallow<4.0.0,>=3.18.0 in /home/alshelt/.local/lib/python3.9/site-packages (from dataclasses-json<0.7,>=0.5.7->langchain) (3.20.1)\n",
      "Requirement already satisfied: typing-inspect<1,>=0.4.0 in /home/alshelt/.local/lib/python3.9/site-packages (from dataclasses-json<0.7,>=0.5.7->langchain) (0.9.0)\n",
      "Requirement already satisfied: jsonpointer>=1.9 in /home/alshelt/.local/lib/python3.9/site-packages (from jsonpatch<2.0,>=1.33->langchain) (2.4)\n",
      "Requirement already satisfied: packaging>=17.0 in /home/alshelt/.local/lib/python3.9/site-packages (from marshmallow<4.0.0,>=3.18.0->dataclasses-json<0.7,>=0.5.7->langchain) (23.1)\n",
      "Requirement already satisfied: typing-extensions>=4.2.0 in /home/alshelt/.local/lib/python3.9/site-packages (from pydantic<3,>=1->langchain) (4.8.0)\n",
      "Requirement already satisfied: certifi>=2017.4.17 in /home/alshelt/.local/lib/python3.9/site-packages (from requests<3,>=2->langchain) (2023.7.22)\n",
      "Requirement already satisfied: urllib3<3,>=1.21.1 in /home/alshelt/.local/lib/python3.9/site-packages (from requests<3,>=2->langchain) (1.26.16)\n",
      "Requirement already satisfied: greenlet!=0.4.17 in /software/spackages/linux-rocky8-x86_64/gcc-9.5.0/anaconda3-2022.05-zyrazrj6uvrtukupqzhaslr63w7hj6in/lib/python3.9/site-packages (from SQLAlchemy<3,>=1.4->langchain) (1.1.1)\n",
      "Requirement already satisfied: mypy-extensions>=0.3.0 in /software/spackages/linux-rocky8-x86_64/gcc-9.5.0/anaconda3-2022.05-zyrazrj6uvrtukupqzhaslr63w7hj6in/lib/python3.9/site-packages (from typing-inspect<1,>=0.4.0->dataclasses-json<0.7,>=0.5.7->langchain) (0.4.3)\n"
     ]
    }
   ],
   "source": [
    "!pip install pandas\n",
    "!pip install langchain\n",
    "\n",
    "import pandas as pd"
   ]
  },
  {
   "cell_type": "markdown",
   "id": "d0bd41db-e5b2-4271-9648-af58850390ca",
   "metadata": {},
   "source": [
    "## Load the unlabeled data into a dataframe"
   ]
  },
  {
   "cell_type": "code",
   "execution_count": 2,
   "id": "e3814938-0a33-4f2b-bf8f-cd9110d6604a",
   "metadata": {},
   "outputs": [
    {
     "data": {
      "text/html": [
       "<div>\n",
       "<style scoped>\n",
       "    .dataframe tbody tr th:only-of-type {\n",
       "        vertical-align: middle;\n",
       "    }\n",
       "\n",
       "    .dataframe tbody tr th {\n",
       "        vertical-align: top;\n",
       "    }\n",
       "\n",
       "    .dataframe thead th {\n",
       "        text-align: right;\n",
       "    }\n",
       "</style>\n",
       "<table border=\"1\" class=\"dataframe\">\n",
       "  <thead>\n",
       "    <tr style=\"text-align: right;\">\n",
       "      <th></th>\n",
       "      <th>Response</th>\n",
       "      <th>Semester</th>\n",
       "    </tr>\n",
       "  </thead>\n",
       "  <tbody>\n",
       "    <tr>\n",
       "      <th>0</th>\n",
       "      <td>Although Owens leadership skills are good, he ...</td>\n",
       "      <td>Fall 2017</td>\n",
       "    </tr>\n",
       "    <tr>\n",
       "      <th>1</th>\n",
       "      <td>Andrew should utilize colleagues to generate i...</td>\n",
       "      <td>Fall 2017</td>\n",
       "    </tr>\n",
       "    <tr>\n",
       "      <th>2</th>\n",
       "      <td>Bailey worked one part-time internship and her...</td>\n",
       "      <td>Fall 2017</td>\n",
       "    </tr>\n",
       "    <tr>\n",
       "      <th>3</th>\n",
       "      <td>BECAUSE I DIDN'T ALLOW FOR ANY EXPOSURE FOR CH...</td>\n",
       "      <td>Fall 2017</td>\n",
       "    </tr>\n",
       "    <tr>\n",
       "      <th>4</th>\n",
       "      <td>Ben's greatest area for improvement is in the ...</td>\n",
       "      <td>Fall 2017</td>\n",
       "    </tr>\n",
       "    <tr>\n",
       "      <th>...</th>\n",
       "      <td>...</td>\n",
       "      <td>...</td>\n",
       "    </tr>\n",
       "    <tr>\n",
       "      <th>1311</th>\n",
       "      <td>Only choosing this because unfortunately she w...</td>\n",
       "      <td>Fall 2022</td>\n",
       "    </tr>\n",
       "    <tr>\n",
       "      <th>1312</th>\n",
       "      <td>Sara could benefit from recognizing her worth ...</td>\n",
       "      <td>Fall 2022</td>\n",
       "    </tr>\n",
       "    <tr>\n",
       "      <th>1313</th>\n",
       "      <td>There was not much room to use leadership skills.</td>\n",
       "      <td>Fall 2022</td>\n",
       "    </tr>\n",
       "    <tr>\n",
       "      <th>1314</th>\n",
       "      <td>We do not have many leadership opportunities i...</td>\n",
       "      <td>Fall 2022</td>\n",
       "    </tr>\n",
       "    <tr>\n",
       "      <th>1315</th>\n",
       "      <td>When Sullivan speaks, people listen. His chara...</td>\n",
       "      <td>Fall 2022</td>\n",
       "    </tr>\n",
       "  </tbody>\n",
       "</table>\n",
       "<p>1316 rows × 2 columns</p>\n",
       "</div>"
      ],
      "text/plain": [
       "                                               Response   Semester\n",
       "0     Although Owens leadership skills are good, he ...  Fall 2017\n",
       "1     Andrew should utilize colleagues to generate i...  Fall 2017\n",
       "2     Bailey worked one part-time internship and her...  Fall 2017\n",
       "3     BECAUSE I DIDN'T ALLOW FOR ANY EXPOSURE FOR CH...  Fall 2017\n",
       "4     Ben's greatest area for improvement is in the ...  Fall 2017\n",
       "...                                                 ...        ...\n",
       "1311  Only choosing this because unfortunately she w...  Fall 2022\n",
       "1312  Sara could benefit from recognizing her worth ...  Fall 2022\n",
       "1313  There was not much room to use leadership skills.  Fall 2022\n",
       "1314  We do not have many leadership opportunities i...  Fall 2022\n",
       "1315  When Sullivan speaks, people listen. His chara...  Fall 2022\n",
       "\n",
       "[1316 rows x 2 columns]"
      ]
     },
     "execution_count": 2,
     "metadata": {},
     "output_type": "execute_result"
    }
   ],
   "source": [
    "leadership_df = pd.read_csv('Mentor.Leadership.By.Semester.Combined.csv')\n",
    "\n",
    "leadership_df"
   ]
  },
  {
   "cell_type": "markdown",
   "id": "6f4b875a-aa9d-4c54-baa0-06fe750e1cc0",
   "metadata": {},
   "source": [
    "## Load the labeled data"
   ]
  },
  {
   "cell_type": "code",
   "execution_count": 3,
   "id": "7b7dfd98-a2be-4359-8c37-f4432755b917",
   "metadata": {},
   "outputs": [
    {
     "data": {
      "text/html": [
       "<div>\n",
       "<style scoped>\n",
       "    .dataframe tbody tr th:only-of-type {\n",
       "        vertical-align: middle;\n",
       "    }\n",
       "\n",
       "    .dataframe tbody tr th {\n",
       "        vertical-align: top;\n",
       "    }\n",
       "\n",
       "    .dataframe thead th {\n",
       "        text-align: right;\n",
       "    }\n",
       "</style>\n",
       "<table border=\"1\" class=\"dataframe\">\n",
       "  <thead>\n",
       "    <tr style=\"text-align: right;\">\n",
       "      <th></th>\n",
       "      <th>Labeled Data</th>\n",
       "      <th>Label</th>\n",
       "      <th>Dataset Name</th>\n",
       "    </tr>\n",
       "  </thead>\n",
       "  <tbody>\n",
       "    <tr>\n",
       "      <th>0</th>\n",
       "      <td>NaN</td>\n",
       "      <td>NONE</td>\n",
       "      <td>Student</td>\n",
       "    </tr>\n",
       "    <tr>\n",
       "      <th>1</th>\n",
       "      <td>\\n</td>\n",
       "      <td>NONE</td>\n",
       "      <td>Mentor</td>\n",
       "    </tr>\n",
       "    <tr>\n",
       "      <th>2</th>\n",
       "      <td>And then Alex can weigh in his ideas.</td>\n",
       "      <td>NONE</td>\n",
       "      <td>Student</td>\n",
       "    </tr>\n",
       "    <tr>\n",
       "      <th>3</th>\n",
       "      <td>As Ally's career progresses, I have no doubt ...</td>\n",
       "      <td>NONE</td>\n",
       "      <td>Mentor</td>\n",
       "    </tr>\n",
       "    <tr>\n",
       "      <th>4</th>\n",
       "      <td>Caleb did a lot of the work filming and editi...</td>\n",
       "      <td>NONE</td>\n",
       "      <td>Student</td>\n",
       "    </tr>\n",
       "    <tr>\n",
       "      <th>...</th>\n",
       "      <td>...</td>\n",
       "      <td>...</td>\n",
       "      <td>...</td>\n",
       "    </tr>\n",
       "    <tr>\n",
       "      <th>6154</th>\n",
       "      <td>when discussing new project ideas for the futu...</td>\n",
       "      <td>STC</td>\n",
       "      <td>Student</td>\n",
       "    </tr>\n",
       "    <tr>\n",
       "      <th>6155</th>\n",
       "      <td>will also additionally take more responsibilit...</td>\n",
       "      <td>NONE</td>\n",
       "      <td>Student</td>\n",
       "    </tr>\n",
       "    <tr>\n",
       "      <th>6156</th>\n",
       "      <td>worked collaboratively with the study abroad o...</td>\n",
       "      <td>NONE</td>\n",
       "      <td>Student</td>\n",
       "    </tr>\n",
       "    <tr>\n",
       "      <th>6157</th>\n",
       "      <td>worked solo\\n</td>\n",
       "      <td>NONE</td>\n",
       "      <td>Mentor</td>\n",
       "    </tr>\n",
       "    <tr>\n",
       "      <th>6158</th>\n",
       "      <td>zxcZcZX\\n</td>\n",
       "      <td>NONE</td>\n",
       "      <td>Student</td>\n",
       "    </tr>\n",
       "  </tbody>\n",
       "</table>\n",
       "<p>6159 rows × 3 columns</p>\n",
       "</div>"
      ],
      "text/plain": [
       "                                           Labeled Data Label Dataset Name\n",
       "0                                                   NaN  NONE      Student\n",
       "1                                                    \\n  NONE       Mentor\n",
       "2                 And then Alex can weigh in his ideas.  NONE      Student\n",
       "3      As Ally's career progresses, I have no doubt ...  NONE       Mentor\n",
       "4      Caleb did a lot of the work filming and editi...  NONE      Student\n",
       "...                                                 ...   ...          ...\n",
       "6154  when discussing new project ideas for the futu...   STC      Student\n",
       "6155  will also additionally take more responsibilit...  NONE      Student\n",
       "6156  worked collaboratively with the study abroad o...  NONE      Student\n",
       "6157                                      worked solo\\n  NONE       Mentor\n",
       "6158                                          zxcZcZX\\n  NONE      Student\n",
       "\n",
       "[6159 rows x 3 columns]"
      ]
     },
     "execution_count": 3,
     "metadata": {},
     "output_type": "execute_result"
    }
   ],
   "source": [
    "labeled_df = pd.read_csv('Labelbox Cleaned-2020-10-22.csv')\n",
    "labeled_df.rename(columns={'Final Label': 'Label'}, inplace=True)\n",
    "\n",
    "labeled_df"
   ]
  },
  {
   "cell_type": "markdown",
   "id": "fdd5e332-124a-4846-aa03-16a4b3307095",
   "metadata": {},
   "source": [
    "## Remove \"Dataset Name\" column from dataframe"
   ]
  },
  {
   "cell_type": "code",
   "execution_count": 4,
   "id": "d0841ac6-90f1-4e1c-a647-aae5c85419a4",
   "metadata": {},
   "outputs": [
    {
     "data": {
      "text/html": [
       "<div>\n",
       "<style scoped>\n",
       "    .dataframe tbody tr th:only-of-type {\n",
       "        vertical-align: middle;\n",
       "    }\n",
       "\n",
       "    .dataframe tbody tr th {\n",
       "        vertical-align: top;\n",
       "    }\n",
       "\n",
       "    .dataframe thead th {\n",
       "        text-align: right;\n",
       "    }\n",
       "</style>\n",
       "<table border=\"1\" class=\"dataframe\">\n",
       "  <thead>\n",
       "    <tr style=\"text-align: right;\">\n",
       "      <th></th>\n",
       "      <th>Labeled Data</th>\n",
       "      <th>Label</th>\n",
       "    </tr>\n",
       "  </thead>\n",
       "  <tbody>\n",
       "    <tr>\n",
       "      <th>0</th>\n",
       "      <td>NaN</td>\n",
       "      <td>NONE</td>\n",
       "    </tr>\n",
       "    <tr>\n",
       "      <th>1</th>\n",
       "      <td>\\n</td>\n",
       "      <td>NONE</td>\n",
       "    </tr>\n",
       "    <tr>\n",
       "      <th>2</th>\n",
       "      <td>And then Alex can weigh in his ideas.</td>\n",
       "      <td>NONE</td>\n",
       "    </tr>\n",
       "    <tr>\n",
       "      <th>3</th>\n",
       "      <td>As Ally's career progresses, I have no doubt ...</td>\n",
       "      <td>NONE</td>\n",
       "    </tr>\n",
       "    <tr>\n",
       "      <th>4</th>\n",
       "      <td>Caleb did a lot of the work filming and editi...</td>\n",
       "      <td>NONE</td>\n",
       "    </tr>\n",
       "    <tr>\n",
       "      <th>...</th>\n",
       "      <td>...</td>\n",
       "      <td>...</td>\n",
       "    </tr>\n",
       "    <tr>\n",
       "      <th>6154</th>\n",
       "      <td>when discussing new project ideas for the futu...</td>\n",
       "      <td>STC</td>\n",
       "    </tr>\n",
       "    <tr>\n",
       "      <th>6155</th>\n",
       "      <td>will also additionally take more responsibilit...</td>\n",
       "      <td>NONE</td>\n",
       "    </tr>\n",
       "    <tr>\n",
       "      <th>6156</th>\n",
       "      <td>worked collaboratively with the study abroad o...</td>\n",
       "      <td>NONE</td>\n",
       "    </tr>\n",
       "    <tr>\n",
       "      <th>6157</th>\n",
       "      <td>worked solo\\n</td>\n",
       "      <td>NONE</td>\n",
       "    </tr>\n",
       "    <tr>\n",
       "      <th>6158</th>\n",
       "      <td>zxcZcZX\\n</td>\n",
       "      <td>NONE</td>\n",
       "    </tr>\n",
       "  </tbody>\n",
       "</table>\n",
       "<p>6159 rows × 2 columns</p>\n",
       "</div>"
      ],
      "text/plain": [
       "                                           Labeled Data Label\n",
       "0                                                   NaN  NONE\n",
       "1                                                    \\n  NONE\n",
       "2                 And then Alex can weigh in his ideas.  NONE\n",
       "3      As Ally's career progresses, I have no doubt ...  NONE\n",
       "4      Caleb did a lot of the work filming and editi...  NONE\n",
       "...                                                 ...   ...\n",
       "6154  when discussing new project ideas for the futu...   STC\n",
       "6155  will also additionally take more responsibilit...  NONE\n",
       "6156  worked collaboratively with the study abroad o...  NONE\n",
       "6157                                      worked solo\\n  NONE\n",
       "6158                                          zxcZcZX\\n  NONE\n",
       "\n",
       "[6159 rows x 2 columns]"
      ]
     },
     "execution_count": 4,
     "metadata": {},
     "output_type": "execute_result"
    }
   ],
   "source": [
    "labeled_df.drop(columns='Dataset Name', inplace=True)\n",
    "labeled_df"
   ]
  },
  {
   "cell_type": "markdown",
   "id": "d4dbefe7-4613-4f00-92a0-4b61a6218547",
   "metadata": {
    "tags": []
   },
   "source": [
    "## Parse labeled responses for 2 of each label into JSON format"
   ]
  },
  {
   "cell_type": "code",
   "execution_count": 5,
   "id": "50cbe8cd-d53b-4a95-82c6-886a7a0c0623",
   "metadata": {},
   "outputs": [
    {
     "name": "stdout",
     "output_type": "stream",
     "text": [
      "[{\"Labeled Data\":\"I was able to collaborate with our whole team to figure out when we could do make-up sessions, when to meet to discuss the collaboration between the programs, as well as update the team on what was going on with the DPP program at our monthly team meetings.\",\"Label\":\"IDK\"},{\"Labeled Data\":\"These meetings were used to give us whatever information we might need for the day, but also to help bring us together as a team.\",\"Label\":\"IDK\"},{\"Labeled Data\":\"I dont list leadership as the greatest area for improvement because she lacks these skills; on the contrary, in the coming semesters I know she will be the best leader for the Media and Graphics team.\",\"Label\":\"NONE\"},{\"Labeled Data\":\"We also worked with our committee so that they would help out with the project as well.\\n\",\"Label\":\"NONE\"},{\"Labeled Data\":\"Then based on the their goal, I will provide the capability for the open source product.\",\"Label\":\"STC\"},{\"Labeled Data\":\"This quality of his has been very effective in keeping the team efficient and happy as well.\\n\",\"Label\":\"STC\"},{\"Labeled Data\":\"I was able to show that with perseverance, determination, and ambition would can reach your goals and pursue the career of your dreams.\",\"Label\":\"STF\"},{\"Labeled Data\":\"During out monthly internship meetings I encouraged the group of interns to come up with several ways to fundraise for the Clemson Study Abroad Office.\",\"Label\":\"STF\"},{\"Labeled Data\":\"Every day i see these employees assign different interns to different tasks so that all the tasks are completed on time.\",\"Label\":\"TC\"},{\"Labeled Data\":\"I was responsible for delegating tasks and this including making sure each intern was given a task that best suited their strengths and making sure things were done on time. \\n\",\"Label\":\"TC\"},{\"Labeled Data\":\"I led my team through a series of service projects that would benefit the entire HR office.\",\"Label\":\"TF\"},{\"Labeled Data\":\"Throughout these projects, I encouraged the other members to discuss any problems that they had with my decisions and told them that I was willing to change any decisions if the group felt it was best.\",\"Label\":\"TF\"}]\n"
     ]
    }
   ],
   "source": [
    "def parse_responses_into_json():\n",
    "    # Sample 2 rows for each unique label in the 'Label' column\n",
    "    sampled_df = labeled_df.groupby('Label').apply(lambda x: x.sample(2)).reset_index(drop=True)\n",
    "\n",
    "    # Convert df to JSON string\n",
    "    json_responses = sampled_df.to_json(orient='records')\n",
    "\n",
    "    return json_responses\n",
    "\n",
    "res = parse_responses_into_json()\n",
    "print(res)"
   ]
  },
  {
   "cell_type": "markdown",
   "id": "006ff552-a6b5-4015-be5a-0e8751625bbf",
   "metadata": {},
   "source": [
    "## Generate prompt"
   ]
  },
  {
   "cell_type": "code",
   "execution_count": 6,
   "id": "f8e2ce2d-a78f-4dae-92ec-7f224b866cb1",
   "metadata": {},
   "outputs": [
    {
     "name": "stdout",
     "output_type": "stream",
     "text": [
      "# Instructions\n",
      "\"Based on the text in the 'Text' section below that contains an employer's evaluation of their intern's leadership skills, determine whether the text indicates a more transactional or transformational leadership style based on the definitions provided below in the 'Definitions' section. Labeled JSON data is provided in the 'Labeled Data' section as a reference for accurate labels of previous text examples. Give the output in a JSON format with 2 key value pairs where the 'Explanation' key corresponds to your reasoning for your choice and the 'Label' key corresponds to your choice for whether the text shows 'Transactional' or 'Transformational' leadership.\"\n",
      "# Definitions\n",
      "\"'Transactional leadership: characterized by a focus on supervision, organization, and performance. Leaders who exhibit this style often work within established procedures and promote compliance through rewards and punishments.' 'Transformational leadership: Transformational leaders inspire their followers to exceed their own self-interests for the good of the group or organization. They often encourage innovation, creativity, and personal development. They stimulate and inspire followers via charisma to both achieve extraordinary outcomes and develop their own leadership capacity.'\"\n",
      "# Labeled Data\n",
      "[{\"Labeled Data\":\"For every marketing campaign we did, she brought together people who had different strengths to complement each other. \\n\",\"Label\":\"IDK\"},{\"Labeled Data\":\"During my internship, I noticed that one of my bosses continually outsourced and looked to find the best person to aid him in his projects, even if they did not work directly under him.\",\"Label\":\"IDK\"},{\"Labeled Data\":\"I also saw it in the UPIC office and in my relationship with Lisa.\",\"Label\":\"NONE\"},{\"Labeled Data\":\"I was able to tell them about the efforts of Give Day and explain the importance of the Office of Development.\",\"Label\":\"NONE\"},{\"Labeled Data\":\"I arrange the time for discussion and team-work measurement.\",\"Label\":\"STC\"},{\"Labeled Data\":\"I wouldn't say I necessarily led them, as they had to perform the tasks on their own, but I gathered the team together. \\n\",\"Label\":\"STC\"},{\"Labeled Data\":\"Since I was the first intern to join for that particular project, I helped the interns who joined later on to learn about the production process and the work that was expected from us.\\n\",\"Label\":\"STF\"},{\"Labeled Data\":\"My mentor was really good to understand my strengths and capitalize on it through the mission given to me. \\n\",\"Label\":\"STF\"},{\"Labeled Data\":\"After all talking about it and bouncing back ideas we finally were able to figure out an easier solution for her and were able to all go out there and help her on that day's project.\\n\",\"Label\":\"TC\"},{\"Labeled Data\":\"In meetings I would often lead discussions regarding how we are currently structured and operating to allow everyone to voice opinions on we could achieve our goals more efficiently. \\n\",\"Label\":\"TC\"},{\"Labeled Data\":\"I was able to empower others to achieve this goal by hosting events that supported the idea of getting connected to those 8 dimensions. \\n\",\"Label\":\"TF\"},{\"Labeled Data\":\"When there was an issue developing the desired website, the director and I were able to come to a mutual decision on what would be best for the company and its image.\",\"Label\":\"TF\"}]\n",
      "# Text\n",
      "\"Andrew should utilize colleagues to generate ideas on how to further his project.\"\n"
     ]
    }
   ],
   "source": [
    "def generate_label_prompt(text):\n",
    "    # Filter for 2 of each label\n",
    "    labeled_data_json = parse_responses_into_json()\n",
    "\n",
    "    combined_json_str = '[' + ', '.join(labeled_data_json) + ']'\n",
    "\n",
    "    labeled_data = \"# Labeled Data\\n\" + labeled_data_json + \"\\n\"\n",
    "\n",
    "    instructions = \"# Instructions\\n\\\"Based on the text in the 'Text' section below that contains an employer's evaluation of their intern's leadership skills, determine whether the text indicates a more transactional or transformational leadership style based on the definitions provided below in the 'Definitions' section. Labeled JSON data is provided in the 'Labeled Data' section as a reference for accurate labels of previous text examples. Give the output in a JSON format with 2 key value pairs where the 'Explanation' key corresponds to your reasoning for your choice and the 'Label' key corresponds to your choice for whether the text shows 'Transactional' or 'Transformational' leadership.\\\"\\n\"\n",
    "    text = \"# Text\\n\\\"\" + text + \"\\\"\"\n",
    "    definitions = \"# Definitions\\n\\\"'Transactional leadership: characterized by a focus on supervision, organization, and performance. Leaders who exhibit this style often work within established procedures and promote compliance through rewards and punishments.' 'Transformational leadership: Transformational leaders inspire their followers to exceed their own self-interests for the good of the group or organization. They often encourage innovation, creativity, and personal development. They stimulate and inspire followers via charisma to both achieve extraordinary outcomes and develop their own leadership capacity.'\\\"\\n\"\n",
    "    new_prompt = instructions + definitions + labeled_data + text\n",
    "    return new_prompt\n",
    "\n",
    "prompt = generate_label_prompt(leadership_df[\"Response\"][1])\n",
    "print(prompt)"
   ]
  },
  {
   "cell_type": "markdown",
   "id": "1858385c-37bb-47a1-ac4a-28f3d82e4c68",
   "metadata": {},
   "source": [
    "## Load the model and generate output based on prompt"
   ]
  },
  {
   "cell_type": "code",
   "execution_count": 7,
   "id": "9a0f559c-f6e2-463c-a95d-c49641b12eb3",
   "metadata": {},
   "outputs": [],
   "source": [
    "!pip install -q transformers accelerate"
   ]
  },
  {
   "cell_type": "code",
   "execution_count": 8,
   "id": "6db415a4-42e2-427b-b81e-0ca1554727dc",
   "metadata": {},
   "outputs": [
    {
     "data": {
      "application/vnd.jupyter.widget-view+json": {
       "model_id": "41bef9cb149845ef8c10025afd892150",
       "version_major": 2,
       "version_minor": 0
      },
      "text/plain": [
       "Loading checkpoint shards:   0%|          | 0/2 [00:00<?, ?it/s]"
      ]
     },
     "metadata": {},
     "output_type": "display_data"
    },
    {
     "name": "stderr",
     "output_type": "stream",
     "text": [
      "The attention mask and the pad token id were not set. As a consequence, you may observe unexpected behavior. Please pass your input's `attention_mask` to obtain reliable results.\n",
      "Setting `pad_token_id` to `eos_token_id`:2 for open-end generation.\n"
     ]
    },
    {
     "name": "stdout",
     "output_type": "stream",
     "text": [
      "<s> [INST] # Instructions\n",
      "\"Based on the text in the 'Text' section below that contains an employer's evaluation of their intern's leadership skills, determine whether the text indicates a more transactional or transformational leadership style based on the definitions provided below in the 'Definitions' section. Labeled JSON data is provided in the 'Labeled Data' section as a reference for accurate labels of previous text examples. Give the output in a JSON format with 2 key value pairs where the 'Explanation' key corresponds to your reasoning for your choice and the 'Label' key corresponds to your choice for whether the text shows 'Transactional' or 'Transformational' leadership.\"\n",
      "# Definitions\n",
      "\"'Transactional leadership: characterized by a focus on supervision, organization, and performance. Leaders who exhibit this style often work within established procedures and promote compliance through rewards and punishments.' 'Transformational leadership: Transformational leaders inspire their followers to exceed their own self-interests for the good of the group or organization. They often encourage innovation, creativity, and personal development. They stimulate and inspire followers via charisma to both achieve extraordinary outcomes and develop their own leadership capacity.'\"\n",
      "# Labeled Data\n",
      "[{\"Labeled Data\":\"For every marketing campaign we did, she brought together people who had different strengths to complement each other. \\n\",\"Label\":\"IDK\"},{\"Labeled Data\":\"During my internship, I noticed that one of my bosses continually outsourced and looked to find the best person to aid him in his projects, even if they did not work directly under him.\",\"Label\":\"IDK\"},{\"Labeled Data\":\"I also saw it in the UPIC office and in my relationship with Lisa.\",\"Label\":\"NONE\"},{\"Labeled Data\":\"I was able to tell them about the efforts of Give Day and explain the importance of the Office of Development.\",\"Label\":\"NONE\"},{\"Labeled Data\":\"I arrange the time for discussion and team-work measurement.\",\"Label\":\"STC\"},{\"Labeled Data\":\"I wouldn't say I necessarily led them, as they had to perform the tasks on their own, but I gathered the team together. \\n\",\"Label\":\"STC\"},{\"Labeled Data\":\"Since I was the first intern to join for that particular project, I helped the interns who joined later on to learn about the production process and the work that was expected from us.\\n\",\"Label\":\"STF\"},{\"Labeled Data\":\"My mentor was really good to understand my strengths and capitalize on it through the mission given to me. \\n\",\"Label\":\"STF\"},{\"Labeled Data\":\"After all talking about it and bouncing back ideas we finally were able to figure out an easier solution for her and were able to all go out there and help her on that day's project.\\n\",\"Label\":\"TC\"},{\"Labeled Data\":\"In meetings I would often lead discussions regarding how we are currently structured and operating to allow everyone to voice opinions on we could achieve our goals more efficiently. \\n\",\"Label\":\"TC\"},{\"Labeled Data\":\"I was able to empower others to achieve this goal by hosting events that supported the idea of getting connected to those 8 dimensions. \\n\",\"Label\":\"TF\"},{\"Labeled Data\":\"When there was an issue developing the desired website, the director and I were able to come to a mutual decision on what would be best for the company and its image.\",\"Label\":\"TF\"}]\n",
      "# Text\n",
      "\"Andrew should utilize colleagues to generate ideas on how to further his project.\" [/INST] {\n",
      "\"Explanation\": \"Based on the text, it seems that Andrew is adopting a more transformational leadership style by empowering his colleagues to generate ideas and contribute to the project. This style is characterized by inspiring followers to exceed their own self-interests for the good of the group or organization and encouraging innovation, creativity, and personal development. Andrew is not promoting compliance through rewards and punishments, but instead is working with his colleagues to find a solution together.\",\n",
      "\"Label\": \"transformational\"\n",
      "}</s>\n"
     ]
    }
   ],
   "source": [
    "from transformers import AutoModelForCausalLM, AutoTokenizer\n",
    "\n",
    "device = \"cuda\" # the device to load the model onto\n",
    "\n",
    "model = AutoModelForCausalLM.from_pretrained(\"mistralai/Mistral-7B-Instruct-v0.1\")\n",
    "tokenizer = AutoTokenizer.from_pretrained(\"mistralai/Mistral-7B-Instruct-v0.1\")\n",
    "\n",
    "messages = [\n",
    "    {\"role\": \"user\", \"content\": prompt}\n",
    "]\n",
    "\n",
    "encodeds = tokenizer.apply_chat_template(messages, return_tensors=\"pt\")\n",
    "\n",
    "model_inputs = encodeds.to(device)\n",
    "model.to(device)\n",
    "\n",
    "generated_ids = model.generate(model_inputs, max_new_tokens=1000, do_sample=True)\n",
    "decoded = tokenizer.batch_decode(generated_ids)\n",
    "print(decoded[0])"
   ]
  }
 ],
 "metadata": {
  "kernelspec": {
   "display_name": "Python 3 (ipykernel)",
   "language": "python",
   "name": "python3"
  },
  "language_info": {
   "codemirror_mode": {
    "name": "ipython",
    "version": 3
   },
   "file_extension": ".py",
   "mimetype": "text/x-python",
   "name": "python",
   "nbconvert_exporter": "python",
   "pygments_lexer": "ipython3",
   "version": "3.9.12"
  }
 },
 "nbformat": 4,
 "nbformat_minor": 5
}
