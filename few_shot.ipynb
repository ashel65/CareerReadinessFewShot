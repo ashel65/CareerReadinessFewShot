{
 "cells": [
  {
   "cell_type": "markdown",
   "id": "b3641794-3a7d-4910-b11d-a47a28c38e4c",
   "metadata": {},
   "source": [
    "## Install/import packages"
   ]
  },
  {
   "cell_type": "code",
   "execution_count": 1,
   "id": "ddab5fa0-ec81-475a-8512-9d50d4bc5a97",
   "metadata": {},
   "outputs": [],
   "source": [
    "!pip install pandas\n",
    "!pip install langchain\n",
    "\n",
    "import pandas as pd"
   ]
  },
  {
   "cell_type": "markdown",
   "id": "d0bd41db-e5b2-4271-9648-af58850390ca",
   "metadata": {},
   "source": [
    "## Load the unlabeled data into a dataframe"
   ]
  },
  {
   "cell_type": "code",
   "execution_count": 2,
   "id": "e3814938-0a33-4f2b-bf8f-cd9110d6604a",
   "metadata": {},
   "outputs": [
    {
     "data": {
      "text/html": [
       "<div>\n",
       "<style scoped>\n",
       "    .dataframe tbody tr th:only-of-type {\n",
       "        vertical-align: middle;\n",
       "    }\n",
       "\n",
       "    .dataframe tbody tr th {\n",
       "        vertical-align: top;\n",
       "    }\n",
       "\n",
       "    .dataframe thead th {\n",
       "        text-align: right;\n",
       "    }\n",
       "</style>\n",
       "<table border=\"1\" class=\"dataframe\">\n",
       "  <thead>\n",
       "    <tr style=\"text-align: right;\">\n",
       "      <th></th>\n",
       "      <th>Response</th>\n",
       "      <th>Semester</th>\n",
       "    </tr>\n",
       "  </thead>\n",
       "  <tbody>\n",
       "    <tr>\n",
       "      <th>0</th>\n",
       "      <td>Although Owens leadership skills are good, he ...</td>\n",
       "      <td>Fall 2017</td>\n",
       "    </tr>\n",
       "    <tr>\n",
       "      <th>1</th>\n",
       "      <td>Andrew should utilize colleagues to generate i...</td>\n",
       "      <td>Fall 2017</td>\n",
       "    </tr>\n",
       "    <tr>\n",
       "      <th>2</th>\n",
       "      <td>Bailey worked one part-time internship and her...</td>\n",
       "      <td>Fall 2017</td>\n",
       "    </tr>\n",
       "    <tr>\n",
       "      <th>3</th>\n",
       "      <td>BECAUSE I DIDN'T ALLOW FOR ANY EXPOSURE FOR CH...</td>\n",
       "      <td>Fall 2017</td>\n",
       "    </tr>\n",
       "    <tr>\n",
       "      <th>4</th>\n",
       "      <td>Ben's greatest area for improvement is in the ...</td>\n",
       "      <td>Fall 2017</td>\n",
       "    </tr>\n",
       "    <tr>\n",
       "      <th>...</th>\n",
       "      <td>...</td>\n",
       "      <td>...</td>\n",
       "    </tr>\n",
       "    <tr>\n",
       "      <th>1311</th>\n",
       "      <td>Only choosing this because unfortunately she w...</td>\n",
       "      <td>Fall 2022</td>\n",
       "    </tr>\n",
       "    <tr>\n",
       "      <th>1312</th>\n",
       "      <td>Sara could benefit from recognizing her worth ...</td>\n",
       "      <td>Fall 2022</td>\n",
       "    </tr>\n",
       "    <tr>\n",
       "      <th>1313</th>\n",
       "      <td>There was not much room to use leadership skills.</td>\n",
       "      <td>Fall 2022</td>\n",
       "    </tr>\n",
       "    <tr>\n",
       "      <th>1314</th>\n",
       "      <td>We do not have many leadership opportunities i...</td>\n",
       "      <td>Fall 2022</td>\n",
       "    </tr>\n",
       "    <tr>\n",
       "      <th>1315</th>\n",
       "      <td>When Sullivan speaks, people listen. His chara...</td>\n",
       "      <td>Fall 2022</td>\n",
       "    </tr>\n",
       "  </tbody>\n",
       "</table>\n",
       "<p>1316 rows × 2 columns</p>\n",
       "</div>"
      ],
      "text/plain": [
       "                                               Response   Semester\n",
       "0     Although Owens leadership skills are good, he ...  Fall 2017\n",
       "1     Andrew should utilize colleagues to generate i...  Fall 2017\n",
       "2     Bailey worked one part-time internship and her...  Fall 2017\n",
       "3     BECAUSE I DIDN'T ALLOW FOR ANY EXPOSURE FOR CH...  Fall 2017\n",
       "4     Ben's greatest area for improvement is in the ...  Fall 2017\n",
       "...                                                 ...        ...\n",
       "1311  Only choosing this because unfortunately she w...  Fall 2022\n",
       "1312  Sara could benefit from recognizing her worth ...  Fall 2022\n",
       "1313  There was not much room to use leadership skills.  Fall 2022\n",
       "1314  We do not have many leadership opportunities i...  Fall 2022\n",
       "1315  When Sullivan speaks, people listen. His chara...  Fall 2022\n",
       "\n",
       "[1316 rows x 2 columns]"
      ]
     },
     "execution_count": 2,
     "metadata": {},
     "output_type": "execute_result"
    }
   ],
   "source": [
    "leadership_df = pd.read_csv('Mentor.Leadership.By.Semester.Combined.csv')\n",
    "\n",
    "leadership_df"
   ]
  },
  {
   "cell_type": "markdown",
   "id": "6f4b875a-aa9d-4c54-baa0-06fe750e1cc0",
   "metadata": {},
   "source": [
    "## Load the labeled data"
   ]
  },
  {
   "cell_type": "code",
   "execution_count": 3,
   "id": "7b7dfd98-a2be-4359-8c37-f4432755b917",
   "metadata": {},
   "outputs": [
    {
     "data": {
      "text/html": [
       "<div>\n",
       "<style scoped>\n",
       "    .dataframe tbody tr th:only-of-type {\n",
       "        vertical-align: middle;\n",
       "    }\n",
       "\n",
       "    .dataframe tbody tr th {\n",
       "        vertical-align: top;\n",
       "    }\n",
       "\n",
       "    .dataframe thead th {\n",
       "        text-align: right;\n",
       "    }\n",
       "</style>\n",
       "<table border=\"1\" class=\"dataframe\">\n",
       "  <thead>\n",
       "    <tr style=\"text-align: right;\">\n",
       "      <th></th>\n",
       "      <th>Labeled Data</th>\n",
       "      <th>Label</th>\n",
       "      <th>Dataset Name</th>\n",
       "    </tr>\n",
       "  </thead>\n",
       "  <tbody>\n",
       "    <tr>\n",
       "      <th>0</th>\n",
       "      <td>NaN</td>\n",
       "      <td>NONE</td>\n",
       "      <td>Student</td>\n",
       "    </tr>\n",
       "    <tr>\n",
       "      <th>1</th>\n",
       "      <td>\\n</td>\n",
       "      <td>NONE</td>\n",
       "      <td>Mentor</td>\n",
       "    </tr>\n",
       "    <tr>\n",
       "      <th>2</th>\n",
       "      <td>And then Alex can weigh in his ideas.</td>\n",
       "      <td>NONE</td>\n",
       "      <td>Student</td>\n",
       "    </tr>\n",
       "    <tr>\n",
       "      <th>3</th>\n",
       "      <td>As Ally's career progresses, I have no doubt ...</td>\n",
       "      <td>NONE</td>\n",
       "      <td>Mentor</td>\n",
       "    </tr>\n",
       "    <tr>\n",
       "      <th>4</th>\n",
       "      <td>Caleb did a lot of the work filming and editi...</td>\n",
       "      <td>NONE</td>\n",
       "      <td>Student</td>\n",
       "    </tr>\n",
       "    <tr>\n",
       "      <th>...</th>\n",
       "      <td>...</td>\n",
       "      <td>...</td>\n",
       "      <td>...</td>\n",
       "    </tr>\n",
       "    <tr>\n",
       "      <th>6154</th>\n",
       "      <td>when discussing new project ideas for the futu...</td>\n",
       "      <td>STC</td>\n",
       "      <td>Student</td>\n",
       "    </tr>\n",
       "    <tr>\n",
       "      <th>6155</th>\n",
       "      <td>will also additionally take more responsibilit...</td>\n",
       "      <td>NONE</td>\n",
       "      <td>Student</td>\n",
       "    </tr>\n",
       "    <tr>\n",
       "      <th>6156</th>\n",
       "      <td>worked collaboratively with the study abroad o...</td>\n",
       "      <td>NONE</td>\n",
       "      <td>Student</td>\n",
       "    </tr>\n",
       "    <tr>\n",
       "      <th>6157</th>\n",
       "      <td>worked solo\\n</td>\n",
       "      <td>NONE</td>\n",
       "      <td>Mentor</td>\n",
       "    </tr>\n",
       "    <tr>\n",
       "      <th>6158</th>\n",
       "      <td>zxcZcZX\\n</td>\n",
       "      <td>NONE</td>\n",
       "      <td>Student</td>\n",
       "    </tr>\n",
       "  </tbody>\n",
       "</table>\n",
       "<p>6159 rows × 3 columns</p>\n",
       "</div>"
      ],
      "text/plain": [
       "                                           Labeled Data Label Dataset Name\n",
       "0                                                   NaN  NONE      Student\n",
       "1                                                    \\n  NONE       Mentor\n",
       "2                 And then Alex can weigh in his ideas.  NONE      Student\n",
       "3      As Ally's career progresses, I have no doubt ...  NONE       Mentor\n",
       "4      Caleb did a lot of the work filming and editi...  NONE      Student\n",
       "...                                                 ...   ...          ...\n",
       "6154  when discussing new project ideas for the futu...   STC      Student\n",
       "6155  will also additionally take more responsibilit...  NONE      Student\n",
       "6156  worked collaboratively with the study abroad o...  NONE      Student\n",
       "6157                                      worked solo\\n  NONE       Mentor\n",
       "6158                                          zxcZcZX\\n  NONE      Student\n",
       "\n",
       "[6159 rows x 3 columns]"
      ]
     },
     "execution_count": 3,
     "metadata": {},
     "output_type": "execute_result"
    }
   ],
   "source": [
    "labeled_df = pd.read_csv('Labelbox Cleaned-2020-10-22.csv')\n",
    "labeled_df.rename(columns={'Final Label': 'Label'}, inplace=True)\n",
    "\n",
    "labeled_df"
   ]
  },
  {
   "cell_type": "markdown",
   "id": "fdd5e332-124a-4846-aa03-16a4b3307095",
   "metadata": {},
   "source": [
    "## Remove \"Dataset Name\" column from dataframe"
   ]
  },
  {
   "cell_type": "code",
   "execution_count": 4,
   "id": "d0841ac6-90f1-4e1c-a647-aae5c85419a4",
   "metadata": {},
   "outputs": [
    {
     "data": {
      "text/html": [
       "<div>\n",
       "<style scoped>\n",
       "    .dataframe tbody tr th:only-of-type {\n",
       "        vertical-align: middle;\n",
       "    }\n",
       "\n",
       "    .dataframe tbody tr th {\n",
       "        vertical-align: top;\n",
       "    }\n",
       "\n",
       "    .dataframe thead th {\n",
       "        text-align: right;\n",
       "    }\n",
       "</style>\n",
       "<table border=\"1\" class=\"dataframe\">\n",
       "  <thead>\n",
       "    <tr style=\"text-align: right;\">\n",
       "      <th></th>\n",
       "      <th>Labeled Data</th>\n",
       "      <th>Label</th>\n",
       "    </tr>\n",
       "  </thead>\n",
       "  <tbody>\n",
       "    <tr>\n",
       "      <th>0</th>\n",
       "      <td>NaN</td>\n",
       "      <td>NONE</td>\n",
       "    </tr>\n",
       "    <tr>\n",
       "      <th>1</th>\n",
       "      <td>\\n</td>\n",
       "      <td>NONE</td>\n",
       "    </tr>\n",
       "    <tr>\n",
       "      <th>2</th>\n",
       "      <td>And then Alex can weigh in his ideas.</td>\n",
       "      <td>NONE</td>\n",
       "    </tr>\n",
       "    <tr>\n",
       "      <th>3</th>\n",
       "      <td>As Ally's career progresses, I have no doubt ...</td>\n",
       "      <td>NONE</td>\n",
       "    </tr>\n",
       "    <tr>\n",
       "      <th>4</th>\n",
       "      <td>Caleb did a lot of the work filming and editi...</td>\n",
       "      <td>NONE</td>\n",
       "    </tr>\n",
       "    <tr>\n",
       "      <th>...</th>\n",
       "      <td>...</td>\n",
       "      <td>...</td>\n",
       "    </tr>\n",
       "    <tr>\n",
       "      <th>6154</th>\n",
       "      <td>when discussing new project ideas for the futu...</td>\n",
       "      <td>STC</td>\n",
       "    </tr>\n",
       "    <tr>\n",
       "      <th>6155</th>\n",
       "      <td>will also additionally take more responsibilit...</td>\n",
       "      <td>NONE</td>\n",
       "    </tr>\n",
       "    <tr>\n",
       "      <th>6156</th>\n",
       "      <td>worked collaboratively with the study abroad o...</td>\n",
       "      <td>NONE</td>\n",
       "    </tr>\n",
       "    <tr>\n",
       "      <th>6157</th>\n",
       "      <td>worked solo\\n</td>\n",
       "      <td>NONE</td>\n",
       "    </tr>\n",
       "    <tr>\n",
       "      <th>6158</th>\n",
       "      <td>zxcZcZX\\n</td>\n",
       "      <td>NONE</td>\n",
       "    </tr>\n",
       "  </tbody>\n",
       "</table>\n",
       "<p>6159 rows × 2 columns</p>\n",
       "</div>"
      ],
      "text/plain": [
       "                                           Labeled Data Label\n",
       "0                                                   NaN  NONE\n",
       "1                                                    \\n  NONE\n",
       "2                 And then Alex can weigh in his ideas.  NONE\n",
       "3      As Ally's career progresses, I have no doubt ...  NONE\n",
       "4      Caleb did a lot of the work filming and editi...  NONE\n",
       "...                                                 ...   ...\n",
       "6154  when discussing new project ideas for the futu...   STC\n",
       "6155  will also additionally take more responsibilit...  NONE\n",
       "6156  worked collaboratively with the study abroad o...  NONE\n",
       "6157                                      worked solo\\n  NONE\n",
       "6158                                          zxcZcZX\\n  NONE\n",
       "\n",
       "[6159 rows x 2 columns]"
      ]
     },
     "execution_count": 4,
     "metadata": {},
     "output_type": "execute_result"
    }
   ],
   "source": [
    "labeled_df.drop(columns='Dataset Name', inplace=True)\n",
    "\n",
    "labeled_df"
   ]
  },
  {
   "cell_type": "markdown",
   "id": "d4dbefe7-4613-4f00-92a0-4b61a6218547",
   "metadata": {
    "tags": []
   },
   "source": [
    "## Parse labeled responses for 2 of each label into JSON format"
   ]
  },
  {
   "cell_type": "code",
   "execution_count": 5,
   "id": "50cbe8cd-d53b-4a95-82c6-886a7a0c0623",
   "metadata": {},
   "outputs": [
    {
     "name": "stdout",
     "output_type": "stream",
     "text": [
      "[{\"Labeled Data\": \"My mentor has always called out great work done by her coworkers.\", \"Label\": \"None\"}, {\"Labeled Data\": \"We had an overall intern project for streamlined communication to early admitted students and I used my research to allow other interns to brainstorm ideas and the most effective ways to market to early admitted students.\", \"Label\": \"None\"}, {\"Labeled Data\": \"I feel the meeting went out very successfully.\", \"Label\": \"None\"}, {\"Labeled Data\": \"I feel that my leadership level has grown since I have worked here\\n\", \"Label\": \"None\"}, {\"Labeled Data\": \"I was in charge of the hackathon\\n\", \"Label\": \"Transactional\"}, {\"Labeled Data\": \"As a part of the School Book Project, I was tasked with assisting the project head collect funds that would provide summer reading books to all of the elementary school students of a local Title 1 school.\", \"Label\": \"Transactional\"}, {\"Labeled Data\": \"My team captain had very good leadership skills who believed in the concept of 'lead by example'.\", \"Label\": \"Transformational\"}, {\"Labeled Data\": \"To do this, I implemented various team building and discussion points throughout the pre-departure orientation sessions where students had to find things in common which would hopefully lead to developing relationships prior to leaving for Paris.\", \"Label\": \"Transformational\"}, {\"Labeled Data\": \"We gave useful criticism and feedback so that they could develop their potential businesses.\\n\", \"Label\": \"Transactional\"}, {\"Labeled Data\": \"Regardless of the challenges, it is important to show that you are able to perform your tasks without being watched over constantly.\", \"Label\": \"Transactional\"}, {\"Labeled Data\": \"This form of leadership establishes trust between the client and I. \\n\", \"Label\": \"Transformational\"}, {\"Labeled Data\": \"During the first staff meeting of the semester I lead a discussion on these issues and how we can work together to fix them. \\n\", \"Label\": \"Transformational\"}]\n"
     ]
    }
   ],
   "source": [
    "import json\n",
    "\n",
    "def parse_responses_into_json():\n",
    "    # Sample 2 rows for each unique label in the 'Label' column\n",
    "    sampled_df = labeled_df.groupby('Label').apply(lambda x: x.sample(2)).reset_index(drop=True)\n",
    "\n",
    "    # Convert df to JSON string\n",
    "    json_responses = sampled_df.to_json(orient='records')\n",
    "    \n",
    "    # Convert TC and STC into \"Transactional\", TF and STF into \"Transformational\",\n",
    "    # and IDK/NONE into \"None\".\n",
    "    \n",
    "    # Load the JSON string into a Python list of dictionaries\n",
    "    data = json.loads(json_responses)\n",
    "\n",
    "    # Iterate through each dictionary and change the \"Label\" value if it is \"IDK\"\n",
    "    for item in data:\n",
    "        if item[\"Label\"] == \"IDK\" or item[\"Label\"] == \"NONE\":\n",
    "            item[\"Label\"] = \"None\"\n",
    "        elif item[\"Label\"] == \"TC\" or item[\"Label\"] == \"STC\":\n",
    "            item[\"Label\"] = \"Transactional\"\n",
    "        elif item[\"Label\"] == \"TF\" or item[\"Label\"] == \"STF\":\n",
    "            item[\"Label\"] = \"Transformational\"     \n",
    "\n",
    "    # Convert the list back to a JSON string\n",
    "    relabeled_json_responses = json.dumps(data)\n",
    "    \n",
    "    return relabeled_json_responses\n",
    "\n",
    "res = parse_responses_into_json()\n",
    "print(res)"
   ]
  },
  {
   "cell_type": "markdown",
   "id": "006ff552-a6b5-4015-be5a-0e8751625bbf",
   "metadata": {},
   "source": [
    "## Generate prompt"
   ]
  },
  {
   "cell_type": "code",
   "execution_count": 6,
   "id": "f8e2ce2d-a78f-4dae-92ec-7f224b866cb1",
   "metadata": {},
   "outputs": [
    {
     "name": "stdout",
     "output_type": "stream",
     "text": [
      "# Instructions\n",
      "\"Based on the text in the 'Text' section below that contains an employer's evaluation of their intern's leadership skills, determine whether the text indicates a more transactional or transformational leadership style for the intern based on the definitions provided below in the 'Definitions' section. Labeled JSON data is provided in the 'Labeled Data' section as a reference for accurate labels of previous text examples. Give the output in a JSON format with 2 key value pairs where the 'Explanation' key corresponds to your reasoning for your choice and the 'Label' key corresponds to your choice for whether the text shows 'Transactional' or 'Transformational' leadership.\"\n",
      "# Definitions\n",
      "\"'Transactional leadership: characterized by a focus on hierarchy, organization, and performance. Leaders who exhibit this style often work within established procedures and promote compliance through rewards and punishments.' 'Transformational leadership: Transformational leaders inspire their followers to exceed their own self-interests for the good of the group or organization. They often encourage innovation, creativity, and personal development. They stimulate and inspire followers via charisma to both achieve extraordinary outcomes and develop their own leadership capacity.'\"\n",
      "# Labeled Data\n",
      "[{\"Labeled Data\": \"Using the whole team as his resource would help Shahab grow more\\n\", \"Label\": \"None\"}, {\"Labeled Data\": \"For instance, we had to run a story about the director of parking services, and we had to debate whether or not to portray him in a good light (leaving out the outrage over parking on campus), or to be honest about the way that parking services needs to improve to meet the needs of students and faculty.\", \"Label\": \"None\"}, {\"Labeled Data\": \"Because of not having the engineering background, Hannah was somewhat hesitant to take the lead with our STEM programs.\", \"Label\": \"None\"}, {\"Labeled Data\": \"After coordinating with the embassy in Amman, Jordan and our own IT department, we were able to get a beta-type system online.\", \"Label\": \"None\"}, {\"Labeled Data\": \"I learned a lot from him in regards to project management and how to lead everyone towards an end goal. \\n\", \"Label\": \"Transactional\"}, {\"Labeled Data\": \"This semester I had the pleasure of training my replacement for this position.\", \"Label\": \"Transactional\"}, {\"Labeled Data\": \"Creating and sharing our ideas on the health promotion videos of the new campaign is also an example of when I helped encourage discussion.\", \"Label\": \"Transformational\"}, {\"Labeled Data\": \"My co-workers respect me and in turn their work ethic and productivity increases when I am around. \\n\", \"Label\": \"Transformational\"}, {\"Labeled Data\": \"One of the engineers had to go out of town on office work and left me in charge of a machine re-qualification and I successfully made sure that the machine is moved to its new designated area and it was re-qualified for production.\\n\", \"Label\": \"Transactional\"}, {\"Labeled Data\": \"She saw the overlapping concepts between Parker Simmons and my research, and connected us to achieve mutual goals faster and more efficiently.\", \"Label\": \"Transactional\"}, {\"Labeled Data\": \"Create a vision of how an area can be better and set a program to achieve this vision.\\n\", \"Label\": \"Transformational\"}, {\"Labeled Data\": \"I was able to show other interns that embracing opportunity and developing a can-do attitude will open doors to be involved in projects not directly tied to your own skillsets or interests.\", \"Label\": \"Transformational\"}]\n",
      "# Text\n",
      "\"BECAUSE I DIDN'T ALLOW FOR ANY EXPOSURE FOR CHINMAY. IT WOULD HAVE BEEN A BENEFIT BUT, THE SITUATION DIDN'T ALLOW\"\n"
     ]
    }
   ],
   "source": [
    "def generate_label_prompt(text):\n",
    "    # Filter for 2 of each label\n",
    "    labeled_data_json = parse_responses_into_json()\n",
    "\n",
    "    combined_json_str = '[' + ', '.join(labeled_data_json) + ']'\n",
    "\n",
    "    labeled_data = \"# Labeled Data\\n\" + labeled_data_json + \"\\n\"\n",
    "\n",
    "    instructions = \"\"\"# Instructions\\n\\\"Based on the text in the 'Text' section below that contains \\\n",
    "an employer's evaluation of their intern's leadership skills, determine whether the text indicates a \\\n",
    "more transactional or transformational leadership style for the intern based on the definitions provided \\\n",
    "below in the 'Definitions' section. Labeled JSON data is provided in the 'Labeled Data' section as a reference \\\n",
    "for accurate labels of previous text examples. Give the output in a JSON format with 2 key value pairs where \\\n",
    "the 'Explanation' key corresponds to your reasoning for your choice and the 'Label' key corresponds to your \\\n",
    "choice for whether the text shows 'Transactional' or 'Transformational' leadership.\\\"\\n\"\"\"\n",
    "    text = \"# Text\\n\\\"\" + text + \"\\\"\"\n",
    "    definitions = \"\"\"# Definitions\\n\\\"'Transactional leadership: characterized by a focus on hierarchy, organization, \\\n",
    "and performance. Leaders who exhibit this style often work within established procedures and promote compliance \\\n",
    "through rewards and punishments.' 'Transformational leadership: Transformational leaders inspire their followers \\\n",
    "to exceed their own self-interests for the good of the group or organization. They often encourage innovation, \\\n",
    "creativity, and personal development. They stimulate and inspire followers via charisma to both achieve extraordinary \\\n",
    "outcomes and develop their own leadership capacity.'\\\"\\n\"\"\"\n",
    "    new_prompt = instructions + definitions + labeled_data + text\n",
    "    return new_prompt\n",
    "\n",
    "prompt = generate_label_prompt(leadership_df[\"Response\"][3])\n",
    "print(prompt)"
   ]
  },
  {
   "cell_type": "markdown",
   "id": "1858385c-37bb-47a1-ac4a-28f3d82e4c68",
   "metadata": {},
   "source": [
    "## Load the model and generate output based on prompt"
   ]
  },
  {
   "cell_type": "code",
   "execution_count": 7,
   "id": "9a0f559c-f6e2-463c-a95d-c49641b12eb3",
   "metadata": {},
   "outputs": [],
   "source": [
    "!pip install -q transformers accelerate"
   ]
  },
  {
   "cell_type": "code",
   "execution_count": 8,
   "id": "6db415a4-42e2-427b-b81e-0ca1554727dc",
   "metadata": {},
   "outputs": [
    {
     "data": {
      "application/vnd.jupyter.widget-view+json": {
       "model_id": "174b32b6e65c4ec5a8684c20f1157aa7",
       "version_major": 2,
       "version_minor": 0
      },
      "text/plain": [
       "Loading checkpoint shards:   0%|          | 0/2 [00:00<?, ?it/s]"
      ]
     },
     "metadata": {},
     "output_type": "display_data"
    }
   ],
   "source": [
    "from transformers import AutoModelForCausalLM, AutoTokenizer\n",
    "import os\n",
    "\n",
    "device = \"cuda\" # the device to load the model onto\n",
    "\n",
    "username = os.environ.get('USER')\n",
    "cache_loc = os.path.join('/','scratch',username,'hf_cache')\n",
    "\n",
    "model = AutoModelForCausalLM.from_pretrained(\"mistralai/Mistral-7B-Instruct-v0.1\", cache_dir=cache_loc)\n",
    "tokenizer = AutoTokenizer.from_pretrained(\"mistralai/Mistral-7B-Instruct-v0.1\", cache_dir=cache_loc)"
   ]
  },
  {
   "cell_type": "code",
   "execution_count": 9,
   "id": "6ee832d4-ae70-4892-b96c-a599ee94bde5",
   "metadata": {},
   "outputs": [
    {
     "name": "stderr",
     "output_type": "stream",
     "text": [
      "The attention mask and the pad token id were not set. As a consequence, you may observe unexpected behavior. Please pass your input's `attention_mask` to obtain reliable results.\n",
      "Setting `pad_token_id` to `eos_token_id`:2 for open-end generation.\n"
     ]
    },
    {
     "name": "stdout",
     "output_type": "stream",
     "text": [
      "{\n",
      "\"Explanation\": \"The text does not show a clear focus on charisma, innovation, creativity, or personal development as required for transformational leadership. It instead shows a focus on the situation and the potential benefits/drawbacks of allowing exposure for Chinmay. The language used also seems to be more transactional, emphasizing compliance and following established procedures. Therefore, the label is 'Transactional'.\",\n",
      "\"Label\": \"Transactional\"\n",
      "}</s>\n"
     ]
    },
    {
     "data": {
      "text/plain": [
       "'{\"Labeled Data\": \"Using the whole team as his resource would help Shahab grow more\\\\n\", \"Label\": \"None\"}, {\"Labeled Data\": \"For instance, we had to run a story about the director of parking services, and we had to debate whether or not to portray him in a good light (leaving out the outrage over parking on campus), or to be honest about the way that parking services needs to improve to meet the needs of students and faculty.\", \"Label\": \"None\"}, {\"Labeled Data\": \"Because of not having the engineering background, Hannah was somewhat hesitant to take the lead with our STEM programs.\", \"Label\": \"None\"}, {\"Labeled Data\": \"After coordinating with the embassy in Amman, Jordan and our own IT department, we were able to get a beta-type system online.\", \"Label\": \"None\"}, {\"Labeled Data\": \"I learned a lot from him in regards to project management and how to lead everyone towards an end goal. \\\\n\", \"Label\": \"Transactional\"}, {\"Labeled Data\": \"This semester I had the pleasure of training my replacement for this position.\", \"Label\": \"Transactional\"}, {\"Labeled Data\": \"Creating and sharing our ideas on the health promotion videos of the new campaign is also an example of when I helped encourage discussion.\", \"Label\": \"Transformational\"}, {\"Labeled Data\": \"My co-workers respect me and in turn their work ethic and productivity increases when I am around. \\\\n\", \"Label\": \"Transformational\"}, {\"Labeled Data\": \"One of the engineers had to go out of town on office work and left me in charge of a machine re-qualification and I successfully made sure that the machine is moved to its new designated area and it was re-qualified for production.\\\\n\", \"Label\": \"Transactional\"}, {\"Labeled Data\": \"She saw the overlapping concepts between Parker Simmons and my research, and connected us to achieve mutual goals faster and more efficiently.\", \"Label\": \"Transactional\"}, {\"Labeled Data\": \"Create a vision of how an area can be better and set a program to achieve this vision.\\\\n\", \"Label\": \"Transformational\"}, {\"Labeled Data\": \"I was able to show other interns that embracing opportunity and developing a can-do attitude will open doors to be involved in projects not directly tied to your own skillsets or interests.\", \"Label\": \"Transformational\"}]\\n# Text\\n\"BECAUSE I DIDN\\'T ALLOW FOR ANY EXPOSURE FOR CHINMAY. IT WOULD HAVE BEEN A BENEFIT BUT, THE SITUATION DIDN\\'T ALLOW\" [/INST] {\\n\"Explanation\": \"The text does not show a clear focus on charisma, innovation, creativity, or personal development as required for transformational leadership. It instead shows a focus on the situation and the potential benefits/drawbacks of allowing exposure for Chinmay. The language used also seems to be more transactional, emphasizing compliance and following established procedures. Therefore, the label is \\'Transactional\\'.\",\\n\"Label\": \"Transactional\"\\n}'"
      ]
     },
     "execution_count": 9,
     "metadata": {},
     "output_type": "execute_result"
    }
   ],
   "source": [
    "def generate_output(prompt):\n",
    "    messages = [\n",
    "        {\"role\": \"user\", \"content\": prompt}\n",
    "    ]\n",
    "\n",
    "    encodeds = tokenizer.apply_chat_template(messages, return_tensors=\"pt\")\n",
    "\n",
    "    model_inputs = encodeds.to(device)\n",
    "    model.to(device)\n",
    "\n",
    "    generated_ids = model.generate(model_inputs, max_new_tokens=1000, do_sample=True)\n",
    "    decoded = tokenizer.batch_decode(generated_ids)\n",
    "    \n",
    "    return decoded\n",
    "    \n",
    "output = generate_output(prompt)\n",
    "print(output[0][len(prompt) + 20:])\n",
    "\n",
    "cleaned_output = output[0].split('{')[1:]\n",
    "cleaned_output = '{'.join(cleaned_output)\n",
    "cleaned_output = cleaned_output.split('}')[:-1]\n",
    "cleaned_output = '}'.join(cleaned_output)\n",
    "cleaned_output = '{' + cleaned_output + '}'\n",
    "cleaned_output"
   ]
  },
  {
   "cell_type": "markdown",
   "id": "7c03eccd-08ab-47aa-b45a-03515f23caa1",
   "metadata": {},
   "source": [
    "# Load in pickled dataframe"
   ]
  },
  {
   "cell_type": "code",
   "execution_count": 10,
   "id": "e17684e8-db62-46f8-aeab-d9280eb881e5",
   "metadata": {},
   "outputs": [
    {
     "data": {
      "text/html": [
       "<div>\n",
       "<style scoped>\n",
       "    .dataframe tbody tr th:only-of-type {\n",
       "        vertical-align: middle;\n",
       "    }\n",
       "\n",
       "    .dataframe tbody tr th {\n",
       "        vertical-align: top;\n",
       "    }\n",
       "\n",
       "    .dataframe thead th {\n",
       "        text-align: right;\n",
       "    }\n",
       "</style>\n",
       "<table border=\"1\" class=\"dataframe\">\n",
       "  <thead>\n",
       "    <tr style=\"text-align: right;\">\n",
       "      <th></th>\n",
       "      <th>Labeled Data</th>\n",
       "      <th>Label</th>\n",
       "      <th>Model Output</th>\n",
       "    </tr>\n",
       "  </thead>\n",
       "  <tbody>\n",
       "    <tr>\n",
       "      <th>0</th>\n",
       "      <td>NaN</td>\n",
       "      <td>NONE</td>\n",
       "      <td>{\\n\"Explanation\": \"The provided text does not ...</td>\n",
       "    </tr>\n",
       "    <tr>\n",
       "      <th>1</th>\n",
       "      <td>\\n</td>\n",
       "      <td>NONE</td>\n",
       "      <td>{\\n\"Explanation\": \"Based on the provided text,...</td>\n",
       "    </tr>\n",
       "    <tr>\n",
       "      <th>2</th>\n",
       "      <td>And then Alex can weigh in his ideas.</td>\n",
       "      <td>NONE</td>\n",
       "      <td>{\\n\"Explanation\": \"The text indicates that the...</td>\n",
       "    </tr>\n",
       "    <tr>\n",
       "      <th>3</th>\n",
       "      <td>As Ally's career progresses, I have no doubt ...</td>\n",
       "      <td>NONE</td>\n",
       "      <td>{\\n\"Explanation\": \"The text implies that Ally'...</td>\n",
       "    </tr>\n",
       "    <tr>\n",
       "      <th>4</th>\n",
       "      <td>Caleb did a lot of the work filming and editi...</td>\n",
       "      <td>NONE</td>\n",
       "      <td></td>\n",
       "    </tr>\n",
       "    <tr>\n",
       "      <th>...</th>\n",
       "      <td>...</td>\n",
       "      <td>...</td>\n",
       "      <td>...</td>\n",
       "    </tr>\n",
       "    <tr>\n",
       "      <th>6154</th>\n",
       "      <td>when discussing new project ideas for the futu...</td>\n",
       "      <td>STC</td>\n",
       "      <td></td>\n",
       "    </tr>\n",
       "    <tr>\n",
       "      <th>6155</th>\n",
       "      <td>will also additionally take more responsibilit...</td>\n",
       "      <td>NONE</td>\n",
       "      <td></td>\n",
       "    </tr>\n",
       "    <tr>\n",
       "      <th>6156</th>\n",
       "      <td>worked collaboratively with the study abroad o...</td>\n",
       "      <td>NONE</td>\n",
       "      <td></td>\n",
       "    </tr>\n",
       "    <tr>\n",
       "      <th>6157</th>\n",
       "      <td>worked solo\\n</td>\n",
       "      <td>NONE</td>\n",
       "      <td></td>\n",
       "    </tr>\n",
       "    <tr>\n",
       "      <th>6158</th>\n",
       "      <td>zxcZcZX\\n</td>\n",
       "      <td>NONE</td>\n",
       "      <td></td>\n",
       "    </tr>\n",
       "  </tbody>\n",
       "</table>\n",
       "<p>6159 rows × 3 columns</p>\n",
       "</div>"
      ],
      "text/plain": [
       "                                           Labeled Data Label  \\\n",
       "0                                                   NaN  NONE   \n",
       "1                                                    \\n  NONE   \n",
       "2                 And then Alex can weigh in his ideas.  NONE   \n",
       "3      As Ally's career progresses, I have no doubt ...  NONE   \n",
       "4      Caleb did a lot of the work filming and editi...  NONE   \n",
       "...                                                 ...   ...   \n",
       "6154  when discussing new project ideas for the futu...   STC   \n",
       "6155  will also additionally take more responsibilit...  NONE   \n",
       "6156  worked collaboratively with the study abroad o...  NONE   \n",
       "6157                                      worked solo\\n  NONE   \n",
       "6158                                          zxcZcZX\\n  NONE   \n",
       "\n",
       "                                           Model Output  \n",
       "0     {\\n\"Explanation\": \"The provided text does not ...  \n",
       "1     {\\n\"Explanation\": \"Based on the provided text,...  \n",
       "2     {\\n\"Explanation\": \"The text indicates that the...  \n",
       "3     {\\n\"Explanation\": \"The text implies that Ally'...  \n",
       "4                                                        \n",
       "...                                                 ...  \n",
       "6154                                                     \n",
       "6155                                                     \n",
       "6156                                                     \n",
       "6157                                                     \n",
       "6158                                                     \n",
       "\n",
       "[6159 rows x 3 columns]"
      ]
     },
     "execution_count": 10,
     "metadata": {},
     "output_type": "execute_result"
    }
   ],
   "source": [
    "import pandas as pd\n",
    "# Load DataFrame from pickle file\n",
    "model_output_df = pd.read_pickle('model_output.pkl')\n",
    "model_output_df"
   ]
  },
  {
   "cell_type": "code",
   "execution_count": 11,
   "id": "2c0496ae-017f-4295-9a4f-273cee9844ab",
   "metadata": {},
   "outputs": [
    {
     "name": "stdout",
     "output_type": "stream",
     "text": [
      "Number of rows with strings: 4\n"
     ]
    }
   ],
   "source": [
    "# Count rows with strings in \"Model Output\" column\n",
    "count_strings = model_output_df['Model Output'].apply(lambda x: isinstance(x, str) and x != '').sum()\n",
    "\n",
    "print(\"Number of rows with strings:\", count_strings)"
   ]
  },
  {
   "cell_type": "markdown",
   "id": "b30d3a83-adc6-4109-88c3-85d01ad920cd",
   "metadata": {},
   "source": [
    "## Generate output for each evaluation in labeled data and add it to dataframe"
   ]
  },
  {
   "cell_type": "code",
   "execution_count": 13,
   "id": "a368be9b-c95c-496a-b993-f9e3d620eeee",
   "metadata": {},
   "outputs": [],
   "source": [
    "def is_valid_json(json_string):\n",
    "    try:\n",
    "        # Try to parse the JSON string\n",
    "        json.loads(json_string)\n",
    "        return True\n",
    "    except json.JSONDecodeError:\n",
    "        return False\n",
    "    except TypeError:\n",
    "        return False"
   ]
  },
  {
   "cell_type": "code",
   "execution_count": 14,
   "id": "c9a0bb62-7c48-491b-b073-aad86d3d7778",
   "metadata": {
    "tags": []
   },
   "outputs": [
    {
     "name": "stderr",
     "output_type": "stream",
     "text": [
      "The attention mask and the pad token id were not set. As a consequence, you may observe unexpected behavior. Please pass your input's `attention_mask` to obtain reliable results.\n",
      "Setting `pad_token_id` to `eos_token_id`:2 for open-end generation.\n",
      "The attention mask and the pad token id were not set. As a consequence, you may observe unexpected behavior. Please pass your input's `attention_mask` to obtain reliable results.\n",
      "Setting `pad_token_id` to `eos_token_id`:2 for open-end generation.\n"
     ]
    },
    {
     "name": "stdout",
     "output_type": "stream",
     "text": [
      "JSON not valid! Retrying!\n"
     ]
    },
    {
     "name": "stderr",
     "output_type": "stream",
     "text": [
      "The attention mask and the pad token id were not set. As a consequence, you may observe unexpected behavior. Please pass your input's `attention_mask` to obtain reliable results.\n",
      "Setting `pad_token_id` to `eos_token_id`:2 for open-end generation.\n"
     ]
    },
    {
     "name": "stdout",
     "output_type": "stream",
     "text": [
      "JSON not valid! Retrying!\n"
     ]
    },
    {
     "name": "stderr",
     "output_type": "stream",
     "text": [
      "The attention mask and the pad token id were not set. As a consequence, you may observe unexpected behavior. Please pass your input's `attention_mask` to obtain reliable results.\n",
      "Setting `pad_token_id` to `eos_token_id`:2 for open-end generation.\n"
     ]
    },
    {
     "name": "stdout",
     "output_type": "stream",
     "text": [
      "JSON not valid! Retrying!\n"
     ]
    },
    {
     "name": "stderr",
     "output_type": "stream",
     "text": [
      "The attention mask and the pad token id were not set. As a consequence, you may observe unexpected behavior. Please pass your input's `attention_mask` to obtain reliable results.\n",
      "Setting `pad_token_id` to `eos_token_id`:2 for open-end generation.\n"
     ]
    },
    {
     "name": "stdout",
     "output_type": "stream",
     "text": [
      "JSON not valid! Retrying!\n"
     ]
    },
    {
     "name": "stderr",
     "output_type": "stream",
     "text": [
      "The attention mask and the pad token id were not set. As a consequence, you may observe unexpected behavior. Please pass your input's `attention_mask` to obtain reliable results.\n",
      "Setting `pad_token_id` to `eos_token_id`:2 for open-end generation.\n",
      "The attention mask and the pad token id were not set. As a consequence, you may observe unexpected behavior. Please pass your input's `attention_mask` to obtain reliable results.\n",
      "Setting `pad_token_id` to `eos_token_id`:2 for open-end generation.\n"
     ]
    },
    {
     "name": "stdout",
     "output_type": "stream",
     "text": [
      "JSON not valid! Retrying!\n"
     ]
    },
    {
     "name": "stderr",
     "output_type": "stream",
     "text": [
      "The attention mask and the pad token id were not set. As a consequence, you may observe unexpected behavior. Please pass your input's `attention_mask` to obtain reliable results.\n",
      "Setting `pad_token_id` to `eos_token_id`:2 for open-end generation.\n"
     ]
    },
    {
     "name": "stdout",
     "output_type": "stream",
     "text": [
      "JSON not valid! Retrying!\n"
     ]
    },
    {
     "name": "stderr",
     "output_type": "stream",
     "text": [
      "The attention mask and the pad token id were not set. As a consequence, you may observe unexpected behavior. Please pass your input's `attention_mask` to obtain reliable results.\n",
      "Setting `pad_token_id` to `eos_token_id`:2 for open-end generation.\n",
      "The attention mask and the pad token id were not set. As a consequence, you may observe unexpected behavior. Please pass your input's `attention_mask` to obtain reliable results.\n",
      "Setting `pad_token_id` to `eos_token_id`:2 for open-end generation.\n"
     ]
    },
    {
     "name": "stdout",
     "output_type": "stream",
     "text": [
      "JSON not valid! Retrying!\n"
     ]
    },
    {
     "name": "stderr",
     "output_type": "stream",
     "text": [
      "The attention mask and the pad token id were not set. As a consequence, you may observe unexpected behavior. Please pass your input's `attention_mask` to obtain reliable results.\n",
      "Setting `pad_token_id` to `eos_token_id`:2 for open-end generation.\n"
     ]
    },
    {
     "name": "stdout",
     "output_type": "stream",
     "text": [
      "JSON not valid! Retrying!\n"
     ]
    },
    {
     "name": "stderr",
     "output_type": "stream",
     "text": [
      "The attention mask and the pad token id were not set. As a consequence, you may observe unexpected behavior. Please pass your input's `attention_mask` to obtain reliable results.\n",
      "Setting `pad_token_id` to `eos_token_id`:2 for open-end generation.\n"
     ]
    },
    {
     "name": "stdout",
     "output_type": "stream",
     "text": [
      "JSON not valid! Retrying!\n"
     ]
    },
    {
     "name": "stderr",
     "output_type": "stream",
     "text": [
      "The attention mask and the pad token id were not set. As a consequence, you may observe unexpected behavior. Please pass your input's `attention_mask` to obtain reliable results.\n",
      "Setting `pad_token_id` to `eos_token_id`:2 for open-end generation.\n"
     ]
    },
    {
     "name": "stdout",
     "output_type": "stream",
     "text": [
      "JSON not valid! Retrying!\n"
     ]
    },
    {
     "name": "stderr",
     "output_type": "stream",
     "text": [
      "The attention mask and the pad token id were not set. As a consequence, you may observe unexpected behavior. Please pass your input's `attention_mask` to obtain reliable results.\n",
      "Setting `pad_token_id` to `eos_token_id`:2 for open-end generation.\n"
     ]
    },
    {
     "name": "stdout",
     "output_type": "stream",
     "text": [
      "JSON not valid! Retrying!\n"
     ]
    },
    {
     "name": "stderr",
     "output_type": "stream",
     "text": [
      "The attention mask and the pad token id were not set. As a consequence, you may observe unexpected behavior. Please pass your input's `attention_mask` to obtain reliable results.\n",
      "Setting `pad_token_id` to `eos_token_id`:2 for open-end generation.\n",
      "The attention mask and the pad token id were not set. As a consequence, you may observe unexpected behavior. Please pass your input's `attention_mask` to obtain reliable results.\n",
      "Setting `pad_token_id` to `eos_token_id`:2 for open-end generation.\n"
     ]
    },
    {
     "name": "stdout",
     "output_type": "stream",
     "text": [
      "JSON not valid! Retrying!\n"
     ]
    },
    {
     "name": "stderr",
     "output_type": "stream",
     "text": [
      "The attention mask and the pad token id were not set. As a consequence, you may observe unexpected behavior. Please pass your input's `attention_mask` to obtain reliable results.\n",
      "Setting `pad_token_id` to `eos_token_id`:2 for open-end generation.\n"
     ]
    },
    {
     "name": "stdout",
     "output_type": "stream",
     "text": [
      "JSON not valid! Retrying!\n"
     ]
    },
    {
     "name": "stderr",
     "output_type": "stream",
     "text": [
      "The attention mask and the pad token id were not set. As a consequence, you may observe unexpected behavior. Please pass your input's `attention_mask` to obtain reliable results.\n",
      "Setting `pad_token_id` to `eos_token_id`:2 for open-end generation.\n"
     ]
    },
    {
     "name": "stdout",
     "output_type": "stream",
     "text": [
      "JSON not valid! Retrying!\n"
     ]
    },
    {
     "name": "stderr",
     "output_type": "stream",
     "text": [
      "The attention mask and the pad token id were not set. As a consequence, you may observe unexpected behavior. Please pass your input's `attention_mask` to obtain reliable results.\n",
      "Setting `pad_token_id` to `eos_token_id`:2 for open-end generation.\n"
     ]
    },
    {
     "name": "stdout",
     "output_type": "stream",
     "text": [
      "JSON not valid! Retrying!\n"
     ]
    },
    {
     "name": "stderr",
     "output_type": "stream",
     "text": [
      "The attention mask and the pad token id were not set. As a consequence, you may observe unexpected behavior. Please pass your input's `attention_mask` to obtain reliable results.\n",
      "Setting `pad_token_id` to `eos_token_id`:2 for open-end generation.\n"
     ]
    },
    {
     "name": "stdout",
     "output_type": "stream",
     "text": [
      "JSON not valid! Retrying!\n"
     ]
    },
    {
     "name": "stderr",
     "output_type": "stream",
     "text": [
      "The attention mask and the pad token id were not set. As a consequence, you may observe unexpected behavior. Please pass your input's `attention_mask` to obtain reliable results.\n",
      "Setting `pad_token_id` to `eos_token_id`:2 for open-end generation.\n"
     ]
    },
    {
     "name": "stdout",
     "output_type": "stream",
     "text": [
      "JSON not valid! Retrying!\n"
     ]
    },
    {
     "name": "stderr",
     "output_type": "stream",
     "text": [
      "The attention mask and the pad token id were not set. As a consequence, you may observe unexpected behavior. Please pass your input's `attention_mask` to obtain reliable results.\n",
      "Setting `pad_token_id` to `eos_token_id`:2 for open-end generation.\n"
     ]
    },
    {
     "name": "stdout",
     "output_type": "stream",
     "text": [
      "JSON not valid! Retrying!\n"
     ]
    },
    {
     "name": "stderr",
     "output_type": "stream",
     "text": [
      "The attention mask and the pad token id were not set. As a consequence, you may observe unexpected behavior. Please pass your input's `attention_mask` to obtain reliable results.\n",
      "Setting `pad_token_id` to `eos_token_id`:2 for open-end generation.\n"
     ]
    },
    {
     "name": "stdout",
     "output_type": "stream",
     "text": [
      "JSON not valid! Retrying!\n"
     ]
    },
    {
     "name": "stderr",
     "output_type": "stream",
     "text": [
      "The attention mask and the pad token id were not set. As a consequence, you may observe unexpected behavior. Please pass your input's `attention_mask` to obtain reliable results.\n",
      "Setting `pad_token_id` to `eos_token_id`:2 for open-end generation.\n"
     ]
    },
    {
     "name": "stdout",
     "output_type": "stream",
     "text": [
      "JSON not valid! Retrying!\n"
     ]
    },
    {
     "name": "stderr",
     "output_type": "stream",
     "text": [
      "The attention mask and the pad token id were not set. As a consequence, you may observe unexpected behavior. Please pass your input's `attention_mask` to obtain reliable results.\n",
      "Setting `pad_token_id` to `eos_token_id`:2 for open-end generation.\n"
     ]
    },
    {
     "name": "stdout",
     "output_type": "stream",
     "text": [
      "JSON not valid! Retrying!\n"
     ]
    },
    {
     "name": "stderr",
     "output_type": "stream",
     "text": [
      "The attention mask and the pad token id were not set. As a consequence, you may observe unexpected behavior. Please pass your input's `attention_mask` to obtain reliable results.\n",
      "Setting `pad_token_id` to `eos_token_id`:2 for open-end generation.\n"
     ]
    },
    {
     "name": "stdout",
     "output_type": "stream",
     "text": [
      "JSON not valid! Retrying!\n"
     ]
    },
    {
     "name": "stderr",
     "output_type": "stream",
     "text": [
      "The attention mask and the pad token id were not set. As a consequence, you may observe unexpected behavior. Please pass your input's `attention_mask` to obtain reliable results.\n",
      "Setting `pad_token_id` to `eos_token_id`:2 for open-end generation.\n",
      "The attention mask and the pad token id were not set. As a consequence, you may observe unexpected behavior. Please pass your input's `attention_mask` to obtain reliable results.\n",
      "Setting `pad_token_id` to `eos_token_id`:2 for open-end generation.\n"
     ]
    },
    {
     "name": "stdout",
     "output_type": "stream",
     "text": [
      "JSON not valid! Retrying!\n"
     ]
    },
    {
     "name": "stderr",
     "output_type": "stream",
     "text": [
      "The attention mask and the pad token id were not set. As a consequence, you may observe unexpected behavior. Please pass your input's `attention_mask` to obtain reliable results.\n",
      "Setting `pad_token_id` to `eos_token_id`:2 for open-end generation.\n"
     ]
    },
    {
     "name": "stdout",
     "output_type": "stream",
     "text": [
      "JSON not valid! Retrying!\n",
      "JSON not valid! Retrying!\n"
     ]
    },
    {
     "data": {
      "text/html": [
       "<div>\n",
       "<style scoped>\n",
       "    .dataframe tbody tr th:only-of-type {\n",
       "        vertical-align: middle;\n",
       "    }\n",
       "\n",
       "    .dataframe tbody tr th {\n",
       "        vertical-align: top;\n",
       "    }\n",
       "\n",
       "    .dataframe thead th {\n",
       "        text-align: right;\n",
       "    }\n",
       "</style>\n",
       "<table border=\"1\" class=\"dataframe\">\n",
       "  <thead>\n",
       "    <tr style=\"text-align: right;\">\n",
       "      <th></th>\n",
       "      <th>Labeled Data</th>\n",
       "      <th>Label</th>\n",
       "      <th>Model Output</th>\n",
       "    </tr>\n",
       "  </thead>\n",
       "  <tbody>\n",
       "    <tr>\n",
       "      <th>0</th>\n",
       "      <td>NaN</td>\n",
       "      <td>NONE</td>\n",
       "      <td>{\\n\"Explanation\": \"The given text is not enoug...</td>\n",
       "    </tr>\n",
       "    <tr>\n",
       "      <th>1</th>\n",
       "      <td>\\n</td>\n",
       "      <td>NONE</td>\n",
       "      <td>{\\n    \"Explanation\": \"The text indicates a mo...</td>\n",
       "    </tr>\n",
       "    <tr>\n",
       "      <th>2</th>\n",
       "      <td>And then Alex can weigh in his ideas.</td>\n",
       "      <td>NONE</td>\n",
       "      <td>{\\n\"Explanation\": \"The text suggests a more tr...</td>\n",
       "    </tr>\n",
       "    <tr>\n",
       "      <th>3</th>\n",
       "      <td>As Ally's career progresses, I have no doubt ...</td>\n",
       "      <td>NONE</td>\n",
       "      <td>{\\n\"Explanation\": \"The text indicates a transf...</td>\n",
       "    </tr>\n",
       "    <tr>\n",
       "      <th>4</th>\n",
       "      <td>Caleb did a lot of the work filming and editi...</td>\n",
       "      <td>NONE</td>\n",
       "      <td>{\"Label\": \"Transactional\", \"Explanation\": \"The...</td>\n",
       "    </tr>\n",
       "    <tr>\n",
       "      <th>...</th>\n",
       "      <td>...</td>\n",
       "      <td>...</td>\n",
       "      <td>...</td>\n",
       "    </tr>\n",
       "    <tr>\n",
       "      <th>6154</th>\n",
       "      <td>when discussing new project ideas for the futu...</td>\n",
       "      <td>STC</td>\n",
       "      <td></td>\n",
       "    </tr>\n",
       "    <tr>\n",
       "      <th>6155</th>\n",
       "      <td>will also additionally take more responsibilit...</td>\n",
       "      <td>NONE</td>\n",
       "      <td></td>\n",
       "    </tr>\n",
       "    <tr>\n",
       "      <th>6156</th>\n",
       "      <td>worked collaboratively with the study abroad o...</td>\n",
       "      <td>NONE</td>\n",
       "      <td></td>\n",
       "    </tr>\n",
       "    <tr>\n",
       "      <th>6157</th>\n",
       "      <td>worked solo\\n</td>\n",
       "      <td>NONE</td>\n",
       "      <td></td>\n",
       "    </tr>\n",
       "    <tr>\n",
       "      <th>6158</th>\n",
       "      <td>zxcZcZX\\n</td>\n",
       "      <td>NONE</td>\n",
       "      <td></td>\n",
       "    </tr>\n",
       "  </tbody>\n",
       "</table>\n",
       "<p>6159 rows × 3 columns</p>\n",
       "</div>"
      ],
      "text/plain": [
       "                                           Labeled Data Label  \\\n",
       "0                                                   NaN  NONE   \n",
       "1                                                    \\n  NONE   \n",
       "2                 And then Alex can weigh in his ideas.  NONE   \n",
       "3      As Ally's career progresses, I have no doubt ...  NONE   \n",
       "4      Caleb did a lot of the work filming and editi...  NONE   \n",
       "...                                                 ...   ...   \n",
       "6154  when discussing new project ideas for the futu...   STC   \n",
       "6155  will also additionally take more responsibilit...  NONE   \n",
       "6156  worked collaboratively with the study abroad o...  NONE   \n",
       "6157                                      worked solo\\n  NONE   \n",
       "6158                                          zxcZcZX\\n  NONE   \n",
       "\n",
       "                                           Model Output  \n",
       "0     {\\n\"Explanation\": \"The given text is not enoug...  \n",
       "1     {\\n    \"Explanation\": \"The text indicates a mo...  \n",
       "2     {\\n\"Explanation\": \"The text suggests a more tr...  \n",
       "3     {\\n\"Explanation\": \"The text indicates a transf...  \n",
       "4     {\"Label\": \"Transactional\", \"Explanation\": \"The...  \n",
       "...                                                 ...  \n",
       "6154                                                     \n",
       "6155                                                     \n",
       "6156                                                     \n",
       "6157                                                     \n",
       "6158                                                     \n",
       "\n",
       "[6159 rows x 3 columns]"
      ]
     },
     "execution_count": 14,
     "metadata": {},
     "output_type": "execute_result"
    }
   ],
   "source": [
    "def create_output_df(labeled_df):\n",
    "    output_df = labeled_df\n",
    "    output_df['Model Output'] = ''\n",
    "    invalid_json_counts = {}\n",
    "\n",
    "    for index, row in output_df.head(25).iterrows():\n",
    "        invalid_json_count = 0\n",
    "        \n",
    "        # Generate prompt for current evaluation\n",
    "        prompt = generate_label_prompt(str(row[\"Labeled Data\"]))\n",
    "        \n",
    "        valid_json_flag = False\n",
    "        \n",
    "        while valid_json_flag == False:\n",
    "            invalid_json_count += 1\n",
    "\n",
    "            # Generate summary\n",
    "            output = generate_output(prompt)\n",
    "\n",
    "            # Parse output\n",
    "            cleaned_output = output[0].split('[/INST] ')[-1]\n",
    "            cleaned_output = cleaned_output.split('{')[1:]\n",
    "            cleaned_output = '{'.join(cleaned_output)\n",
    "            cleaned_output = cleaned_output.split('}')[:-1]\n",
    "            cleaned_output = '}'.join(cleaned_output)\n",
    "            cleaned_output = '{' + cleaned_output + '}'\n",
    "            \n",
    "            if cleaned_output == '{}':\n",
    "                cleaned_output = output[0]\n",
    "\n",
    "            if is_valid_json(cleaned_output) == True:\n",
    "                valid_json_flag = True\n",
    "                \n",
    "                if invalid_json_count != 0:\n",
    "                    invalid_json_counts[invalid_json_count] = invalid_json_counts.get(invalid_json_count, 0) + 1\n",
    "\n",
    "        print(\"JSON not valid! Retrying!\")\n",
    "        # Add output to dataframe\n",
    "        output_df.at[index, 'Model Output'] = cleaned_output\n",
    "        \n",
    "        # Save results\n",
    "        filename = 'model_output_valid.pkl'\n",
    "        output_df.to_pickle(filename)\n",
    "        \n",
    "    return output_df, invalid_json_counts\n",
    "    \n",
    "output_df, invalid_json_counts = create_output_df(labeled_df)\n",
    "output_df"
   ]
  },
  {
   "cell_type": "code",
   "execution_count": 16,
   "id": "aedb1e92-4736-4261-bbdc-397022e98fd8",
   "metadata": {},
   "outputs": [],
   "source": [
    "import pickle\n",
    "\n",
    "# Open a file in write-binary mode\n",
    "with open('invalid_json_counts.pkl', 'wb') as file:\n",
    "    # Pickle the dictionary and write it to the file\n",
    "    pickle.dump(invalid_json_counts, file)"
   ]
  },
  {
   "cell_type": "markdown",
   "id": "2e514412-2437-4a47-a8bd-7884c9407f7c",
   "metadata": {},
   "source": [
    "## Add model label column to output_df"
   ]
  },
  {
   "cell_type": "code",
   "execution_count": 18,
   "id": "697c27eb-14e3-4851-b46d-d0816028790c",
   "metadata": {},
   "outputs": [],
   "source": [
    "output_df['IsValidJSON'] = output_df['Model Output'].apply(is_valid_json)"
   ]
  },
  {
   "cell_type": "code",
   "execution_count": 19,
   "id": "e22300e7-cc1d-45ce-8d8d-b727b2f2d443",
   "metadata": {},
   "outputs": [
    {
     "data": {
      "text/plain": [
       "IsValidJSON\n",
       "False    6134\n",
       "True       25\n",
       "Name: count, dtype: int64"
      ]
     },
     "execution_count": 19,
     "metadata": {},
     "output_type": "execute_result"
    }
   ],
   "source": [
    "output_df.IsValidJSON.value_counts()"
   ]
  },
  {
   "cell_type": "markdown",
   "id": "87a6b926-06a8-4155-9ef1-562538865c00",
   "metadata": {},
   "source": [
    "# Get measure of model label accuracy compared to labeled data"
   ]
  },
  {
   "cell_type": "markdown",
   "id": "57bb783a-4ad0-4f04-a648-7878d5cf60d8",
   "metadata": {},
   "source": [
    "## Parse model output for each eval in df for use in comparison"
   ]
  },
  {
   "cell_type": "code",
   "execution_count": 20,
   "id": "a4884ce2-8e9d-4326-8cea-ad9970d6a8b9",
   "metadata": {},
   "outputs": [
    {
     "data": {
      "text/html": [
       "<div>\n",
       "<style scoped>\n",
       "    .dataframe tbody tr th:only-of-type {\n",
       "        vertical-align: middle;\n",
       "    }\n",
       "\n",
       "    .dataframe tbody tr th {\n",
       "        vertical-align: top;\n",
       "    }\n",
       "\n",
       "    .dataframe thead th {\n",
       "        text-align: right;\n",
       "    }\n",
       "</style>\n",
       "<table border=\"1\" class=\"dataframe\">\n",
       "  <thead>\n",
       "    <tr style=\"text-align: right;\">\n",
       "      <th></th>\n",
       "      <th>Labeled Data</th>\n",
       "      <th>Label</th>\n",
       "      <th>Model Output</th>\n",
       "      <th>IsValidJSON</th>\n",
       "      <th>Model Label</th>\n",
       "    </tr>\n",
       "  </thead>\n",
       "  <tbody>\n",
       "    <tr>\n",
       "      <th>0</th>\n",
       "      <td>NaN</td>\n",
       "      <td>NONE</td>\n",
       "      <td>{\\n\"Explanation\": \"The given text is not enoug...</td>\n",
       "      <td>True</td>\n",
       "      <td>None</td>\n",
       "    </tr>\n",
       "    <tr>\n",
       "      <th>1</th>\n",
       "      <td>\\n</td>\n",
       "      <td>NONE</td>\n",
       "      <td>{\\n    \"Explanation\": \"The text indicates a mo...</td>\n",
       "      <td>True</td>\n",
       "      <td>Transformational</td>\n",
       "    </tr>\n",
       "    <tr>\n",
       "      <th>2</th>\n",
       "      <td>And then Alex can weigh in his ideas.</td>\n",
       "      <td>NONE</td>\n",
       "      <td>{\\n\"Explanation\": \"The text suggests a more tr...</td>\n",
       "      <td>True</td>\n",
       "      <td>Transformational</td>\n",
       "    </tr>\n",
       "    <tr>\n",
       "      <th>3</th>\n",
       "      <td>As Ally's career progresses, I have no doubt ...</td>\n",
       "      <td>NONE</td>\n",
       "      <td>{\\n\"Explanation\": \"The text indicates a transf...</td>\n",
       "      <td>True</td>\n",
       "      <td>Transformational</td>\n",
       "    </tr>\n",
       "    <tr>\n",
       "      <th>4</th>\n",
       "      <td>Caleb did a lot of the work filming and editi...</td>\n",
       "      <td>NONE</td>\n",
       "      <td>{\"Label\": \"Transactional\", \"Explanation\": \"The...</td>\n",
       "      <td>True</td>\n",
       "      <td>Transactional</td>\n",
       "    </tr>\n",
       "    <tr>\n",
       "      <th>...</th>\n",
       "      <td>...</td>\n",
       "      <td>...</td>\n",
       "      <td>...</td>\n",
       "      <td>...</td>\n",
       "      <td>...</td>\n",
       "    </tr>\n",
       "    <tr>\n",
       "      <th>6154</th>\n",
       "      <td>when discussing new project ideas for the futu...</td>\n",
       "      <td>STC</td>\n",
       "      <td></td>\n",
       "      <td>False</td>\n",
       "      <td>None</td>\n",
       "    </tr>\n",
       "    <tr>\n",
       "      <th>6155</th>\n",
       "      <td>will also additionally take more responsibilit...</td>\n",
       "      <td>NONE</td>\n",
       "      <td></td>\n",
       "      <td>False</td>\n",
       "      <td>None</td>\n",
       "    </tr>\n",
       "    <tr>\n",
       "      <th>6156</th>\n",
       "      <td>worked collaboratively with the study abroad o...</td>\n",
       "      <td>NONE</td>\n",
       "      <td></td>\n",
       "      <td>False</td>\n",
       "      <td>None</td>\n",
       "    </tr>\n",
       "    <tr>\n",
       "      <th>6157</th>\n",
       "      <td>worked solo\\n</td>\n",
       "      <td>NONE</td>\n",
       "      <td></td>\n",
       "      <td>False</td>\n",
       "      <td>None</td>\n",
       "    </tr>\n",
       "    <tr>\n",
       "      <th>6158</th>\n",
       "      <td>zxcZcZX\\n</td>\n",
       "      <td>NONE</td>\n",
       "      <td></td>\n",
       "      <td>False</td>\n",
       "      <td>None</td>\n",
       "    </tr>\n",
       "  </tbody>\n",
       "</table>\n",
       "<p>6159 rows × 5 columns</p>\n",
       "</div>"
      ],
      "text/plain": [
       "                                           Labeled Data Label  \\\n",
       "0                                                   NaN  NONE   \n",
       "1                                                    \\n  NONE   \n",
       "2                 And then Alex can weigh in his ideas.  NONE   \n",
       "3      As Ally's career progresses, I have no doubt ...  NONE   \n",
       "4      Caleb did a lot of the work filming and editi...  NONE   \n",
       "...                                                 ...   ...   \n",
       "6154  when discussing new project ideas for the futu...   STC   \n",
       "6155  will also additionally take more responsibilit...  NONE   \n",
       "6156  worked collaboratively with the study abroad o...  NONE   \n",
       "6157                                      worked solo\\n  NONE   \n",
       "6158                                          zxcZcZX\\n  NONE   \n",
       "\n",
       "                                           Model Output  IsValidJSON  \\\n",
       "0     {\\n\"Explanation\": \"The given text is not enoug...         True   \n",
       "1     {\\n    \"Explanation\": \"The text indicates a mo...         True   \n",
       "2     {\\n\"Explanation\": \"The text suggests a more tr...         True   \n",
       "3     {\\n\"Explanation\": \"The text indicates a transf...         True   \n",
       "4     {\"Label\": \"Transactional\", \"Explanation\": \"The...         True   \n",
       "...                                                 ...          ...   \n",
       "6154                                                           False   \n",
       "6155                                                           False   \n",
       "6156                                                           False   \n",
       "6157                                                           False   \n",
       "6158                                                           False   \n",
       "\n",
       "           Model Label  \n",
       "0                 None  \n",
       "1     Transformational  \n",
       "2     Transformational  \n",
       "3     Transformational  \n",
       "4        Transactional  \n",
       "...                ...  \n",
       "6154              None  \n",
       "6155              None  \n",
       "6156              None  \n",
       "6157              None  \n",
       "6158              None  \n",
       "\n",
       "[6159 rows x 5 columns]"
      ]
     },
     "execution_count": 20,
     "metadata": {},
     "output_type": "execute_result"
    }
   ],
   "source": [
    "# Function to parse JSON and extract \"Label\"\n",
    "def extract_label(model_output):\n",
    "    # Isolate the JSON part of the text\n",
    "    json_str_start = model_output.find('{')\n",
    "    json_str_end = model_output.rfind('}') + 1\n",
    "    json_str = model_output[json_str_start:json_str_end]\n",
    "\n",
    "    try:\n",
    "        json_data = json.loads(json_str)\n",
    "        return json_data.get('Label', 'None')  # Return None if 'Label' key doesn't exist\n",
    "    except json.JSONDecodeError:\n",
    "        return 'None'  # Return None if JSON is invalid\n",
    "\n",
    "# Apply the function to each row in 'Model Output'\n",
    "output_df['Model Label'] = output_df['Model Output'].apply(extract_label)\n",
    "\n",
    "output_df"
   ]
  },
  {
   "cell_type": "markdown",
   "id": "3c04ff69-82cd-45ae-aa4a-1428fdd26e5f",
   "metadata": {},
   "source": [
    "## Convert labeled_data labels to be comparable to model output labels"
   ]
  },
  {
   "cell_type": "code",
   "execution_count": 21,
   "id": "8687014a-36f7-4bd3-99d8-66200ffa0819",
   "metadata": {
    "tags": []
   },
   "outputs": [
    {
     "data": {
      "text/html": [
       "<div>\n",
       "<style scoped>\n",
       "    .dataframe tbody tr th:only-of-type {\n",
       "        vertical-align: middle;\n",
       "    }\n",
       "\n",
       "    .dataframe tbody tr th {\n",
       "        vertical-align: top;\n",
       "    }\n",
       "\n",
       "    .dataframe thead th {\n",
       "        text-align: right;\n",
       "    }\n",
       "</style>\n",
       "<table border=\"1\" class=\"dataframe\">\n",
       "  <thead>\n",
       "    <tr style=\"text-align: right;\">\n",
       "      <th></th>\n",
       "      <th>Labeled Data</th>\n",
       "      <th>Label</th>\n",
       "      <th>Model Output</th>\n",
       "      <th>IsValidJSON</th>\n",
       "      <th>Model Label</th>\n",
       "    </tr>\n",
       "  </thead>\n",
       "  <tbody>\n",
       "    <tr>\n",
       "      <th>0</th>\n",
       "      <td>NaN</td>\n",
       "      <td>None</td>\n",
       "      <td>{\\n\"Explanation\": \"The given text is not enoug...</td>\n",
       "      <td>True</td>\n",
       "      <td>None</td>\n",
       "    </tr>\n",
       "    <tr>\n",
       "      <th>1</th>\n",
       "      <td>\\n</td>\n",
       "      <td>None</td>\n",
       "      <td>{\\n    \"Explanation\": \"The text indicates a mo...</td>\n",
       "      <td>True</td>\n",
       "      <td>Transformational</td>\n",
       "    </tr>\n",
       "    <tr>\n",
       "      <th>2</th>\n",
       "      <td>And then Alex can weigh in his ideas.</td>\n",
       "      <td>None</td>\n",
       "      <td>{\\n\"Explanation\": \"The text suggests a more tr...</td>\n",
       "      <td>True</td>\n",
       "      <td>Transformational</td>\n",
       "    </tr>\n",
       "    <tr>\n",
       "      <th>3</th>\n",
       "      <td>As Ally's career progresses, I have no doubt ...</td>\n",
       "      <td>None</td>\n",
       "      <td>{\\n\"Explanation\": \"The text indicates a transf...</td>\n",
       "      <td>True</td>\n",
       "      <td>Transformational</td>\n",
       "    </tr>\n",
       "    <tr>\n",
       "      <th>4</th>\n",
       "      <td>Caleb did a lot of the work filming and editi...</td>\n",
       "      <td>None</td>\n",
       "      <td>{\"Label\": \"Transactional\", \"Explanation\": \"The...</td>\n",
       "      <td>True</td>\n",
       "      <td>Transactional</td>\n",
       "    </tr>\n",
       "    <tr>\n",
       "      <th>...</th>\n",
       "      <td>...</td>\n",
       "      <td>...</td>\n",
       "      <td>...</td>\n",
       "      <td>...</td>\n",
       "      <td>...</td>\n",
       "    </tr>\n",
       "    <tr>\n",
       "      <th>6154</th>\n",
       "      <td>when discussing new project ideas for the futu...</td>\n",
       "      <td>Transactional</td>\n",
       "      <td></td>\n",
       "      <td>False</td>\n",
       "      <td>None</td>\n",
       "    </tr>\n",
       "    <tr>\n",
       "      <th>6155</th>\n",
       "      <td>will also additionally take more responsibilit...</td>\n",
       "      <td>None</td>\n",
       "      <td></td>\n",
       "      <td>False</td>\n",
       "      <td>None</td>\n",
       "    </tr>\n",
       "    <tr>\n",
       "      <th>6156</th>\n",
       "      <td>worked collaboratively with the study abroad o...</td>\n",
       "      <td>None</td>\n",
       "      <td></td>\n",
       "      <td>False</td>\n",
       "      <td>None</td>\n",
       "    </tr>\n",
       "    <tr>\n",
       "      <th>6157</th>\n",
       "      <td>worked solo\\n</td>\n",
       "      <td>None</td>\n",
       "      <td></td>\n",
       "      <td>False</td>\n",
       "      <td>None</td>\n",
       "    </tr>\n",
       "    <tr>\n",
       "      <th>6158</th>\n",
       "      <td>zxcZcZX\\n</td>\n",
       "      <td>None</td>\n",
       "      <td></td>\n",
       "      <td>False</td>\n",
       "      <td>None</td>\n",
       "    </tr>\n",
       "  </tbody>\n",
       "</table>\n",
       "<p>6159 rows × 5 columns</p>\n",
       "</div>"
      ],
      "text/plain": [
       "                                           Labeled Data          Label  \\\n",
       "0                                                   NaN           None   \n",
       "1                                                    \\n           None   \n",
       "2                 And then Alex can weigh in his ideas.           None   \n",
       "3      As Ally's career progresses, I have no doubt ...           None   \n",
       "4      Caleb did a lot of the work filming and editi...           None   \n",
       "...                                                 ...            ...   \n",
       "6154  when discussing new project ideas for the futu...  Transactional   \n",
       "6155  will also additionally take more responsibilit...           None   \n",
       "6156  worked collaboratively with the study abroad o...           None   \n",
       "6157                                      worked solo\\n           None   \n",
       "6158                                          zxcZcZX\\n           None   \n",
       "\n",
       "                                           Model Output  IsValidJSON  \\\n",
       "0     {\\n\"Explanation\": \"The given text is not enoug...         True   \n",
       "1     {\\n    \"Explanation\": \"The text indicates a mo...         True   \n",
       "2     {\\n\"Explanation\": \"The text suggests a more tr...         True   \n",
       "3     {\\n\"Explanation\": \"The text indicates a transf...         True   \n",
       "4     {\"Label\": \"Transactional\", \"Explanation\": \"The...         True   \n",
       "...                                                 ...          ...   \n",
       "6154                                                           False   \n",
       "6155                                                           False   \n",
       "6156                                                           False   \n",
       "6157                                                           False   \n",
       "6158                                                           False   \n",
       "\n",
       "           Model Label  \n",
       "0                 None  \n",
       "1     Transformational  \n",
       "2     Transformational  \n",
       "3     Transformational  \n",
       "4        Transactional  \n",
       "...                ...  \n",
       "6154              None  \n",
       "6155              None  \n",
       "6156              None  \n",
       "6157              None  \n",
       "6158              None  \n",
       "\n",
       "[6159 rows x 5 columns]"
      ]
     },
     "execution_count": 21,
     "metadata": {},
     "output_type": "execute_result"
    }
   ],
   "source": [
    "replaced_labels_df = pd.DataFrame(output_df)\n",
    "\n",
    "# Define the mapping for label replacements\n",
    "label_replacements = {\n",
    "    'TC': 'Transactional',\n",
    "    'STC': 'Transactional',\n",
    "    'TF': 'Transformational',\n",
    "    'STF': 'Transformational',\n",
    "    'IDK': 'None',\n",
    "    'NONE': 'None'\n",
    "}\n",
    "\n",
    "# Replace the values in the 'Label' column\n",
    "replaced_labels_df['Label'] = replaced_labels_df['Label'].replace(label_replacements)\n",
    "\n",
    "# Display the modified DataFrame\n",
    "replaced_labels_df"
   ]
  },
  {
   "cell_type": "markdown",
   "id": "a3cfb97a-5f87-4cc4-ad2f-d167ec7d36cb",
   "metadata": {},
   "source": [
    "## Compare model output to labels in labeled_df (will need to convert labels to match)"
   ]
  },
  {
   "cell_type": "code",
   "execution_count": 22,
   "id": "500f4b04-2f8b-4b27-920b-3ba9060ea880",
   "metadata": {},
   "outputs": [
    {
     "name": "stdout",
     "output_type": "stream",
     "text": [
      "Number of matching labels in the first 6159 rows: 4107\n"
     ]
    }
   ],
   "source": [
    "# The number of rows to consider in the comparison\n",
    "n = len(replaced_labels_df)\n",
    "n = min(n, len(replaced_labels_df))\n",
    "\n",
    "# Compare the columns and count matches for the first n rows\n",
    "matches = (replaced_labels_df['Model Label'].iloc[:n] == replaced_labels_df['Label'].iloc[:n]).sum()\n",
    "\n",
    "print(f\"Number of matching labels in the first {n} rows: {matches}\")"
   ]
  },
  {
   "cell_type": "code",
   "execution_count": 23,
   "id": "469392d6-3244-4914-b186-5bb1d054bdb5",
   "metadata": {
    "tags": []
   },
   "outputs": [
    {
     "data": {
      "text/html": [
       "<div>\n",
       "<style scoped>\n",
       "    .dataframe tbody tr th:only-of-type {\n",
       "        vertical-align: middle;\n",
       "    }\n",
       "\n",
       "    .dataframe tbody tr th {\n",
       "        vertical-align: top;\n",
       "    }\n",
       "\n",
       "    .dataframe thead th {\n",
       "        text-align: right;\n",
       "    }\n",
       "</style>\n",
       "<table border=\"1\" class=\"dataframe\">\n",
       "  <thead>\n",
       "    <tr style=\"text-align: right;\">\n",
       "      <th></th>\n",
       "      <th>Labeled Data</th>\n",
       "      <th>Label</th>\n",
       "      <th>Model Output</th>\n",
       "      <th>IsValidJSON</th>\n",
       "      <th>Model Label</th>\n",
       "    </tr>\n",
       "  </thead>\n",
       "  <tbody>\n",
       "    <tr>\n",
       "      <th>0</th>\n",
       "      <td>NaN</td>\n",
       "      <td>None</td>\n",
       "      <td>{\\n\"Explanation\": \"The given text is not enoug...</td>\n",
       "      <td>True</td>\n",
       "      <td>None</td>\n",
       "    </tr>\n",
       "    <tr>\n",
       "      <th>1</th>\n",
       "      <td>\\n</td>\n",
       "      <td>None</td>\n",
       "      <td>{\\n    \"Explanation\": \"The text indicates a mo...</td>\n",
       "      <td>True</td>\n",
       "      <td>Transformational</td>\n",
       "    </tr>\n",
       "    <tr>\n",
       "      <th>2</th>\n",
       "      <td>And then Alex can weigh in his ideas.</td>\n",
       "      <td>None</td>\n",
       "      <td>{\\n\"Explanation\": \"The text suggests a more tr...</td>\n",
       "      <td>True</td>\n",
       "      <td>Transformational</td>\n",
       "    </tr>\n",
       "    <tr>\n",
       "      <th>3</th>\n",
       "      <td>As Ally's career progresses, I have no doubt ...</td>\n",
       "      <td>None</td>\n",
       "      <td>{\\n\"Explanation\": \"The text indicates a transf...</td>\n",
       "      <td>True</td>\n",
       "      <td>Transformational</td>\n",
       "    </tr>\n",
       "    <tr>\n",
       "      <th>4</th>\n",
       "      <td>Caleb did a lot of the work filming and editi...</td>\n",
       "      <td>None</td>\n",
       "      <td>{\"Label\": \"Transactional\", \"Explanation\": \"The...</td>\n",
       "      <td>True</td>\n",
       "      <td>Transactional</td>\n",
       "    </tr>\n",
       "    <tr>\n",
       "      <th>5</th>\n",
       "      <td>I had to quickly deviate from my script and e...</td>\n",
       "      <td>None</td>\n",
       "      <td>{\\n\"Explanation\": \"Transactional leadership is...</td>\n",
       "      <td>True</td>\n",
       "      <td>Transactional</td>\n",
       "    </tr>\n",
       "    <tr>\n",
       "      <th>6</th>\n",
       "      <td>Rather than holding a meeting about a problem...</td>\n",
       "      <td>None</td>\n",
       "      <td>{\\n\"Explanation\": \"The text provided indicates...</td>\n",
       "      <td>True</td>\n",
       "      <td>Transactional</td>\n",
       "    </tr>\n",
       "    <tr>\n",
       "      <th>7</th>\n",
       "      <td>( The information is kinda vague because I don...</td>\n",
       "      <td>None</td>\n",
       "      <td>{\\n\"Explanation\": \"Based on the given text, it...</td>\n",
       "      <td>True</td>\n",
       "      <td>Unknown</td>\n",
       "    </tr>\n",
       "    <tr>\n",
       "      <th>8</th>\n",
       "      <td>(Decipher and I share an office space.)\\n</td>\n",
       "      <td>None</td>\n",
       "      <td>{\"Explanation\": \"The provided text does not co...</td>\n",
       "      <td>True</td>\n",
       "      <td>None</td>\n",
       "    </tr>\n",
       "    <tr>\n",
       "      <th>9</th>\n",
       "      <td>(We had issues with programmers missing deadli...</td>\n",
       "      <td>Transactional</td>\n",
       "      <td>{\\n\"Explanation\": \"The text indicates a more t...</td>\n",
       "      <td>True</td>\n",
       "      <td>Transformational</td>\n",
       "    </tr>\n",
       "    <tr>\n",
       "      <th>10</th>\n",
       "      <td>(this is repeated from before, but also with t...</td>\n",
       "      <td>None</td>\n",
       "      <td>{\"Explanation\": \"The text provided only provid...</td>\n",
       "      <td>True</td>\n",
       "      <td>Transactional</td>\n",
       "    </tr>\n",
       "    <tr>\n",
       "      <th>11</th>\n",
       "      <td>, I had a meeting with my client and with a fe...</td>\n",
       "      <td>None</td>\n",
       "      <td>{\\n\"Explanation\": \"Based on the text provided,...</td>\n",
       "      <td>True</td>\n",
       "      <td>Transactional</td>\n",
       "    </tr>\n",
       "    <tr>\n",
       "      <th>12</th>\n",
       "      <td>, she put me on a project that was more comput...</td>\n",
       "      <td>None</td>\n",
       "      <td>{\\n\"Explanation\": \"The text shows a transactio...</td>\n",
       "      <td>True</td>\n",
       "      <td>Transactional</td>\n",
       "    </tr>\n",
       "    <tr>\n",
       "      <th>13</th>\n",
       "      <td>, the graphics interns make the logos and the ...</td>\n",
       "      <td>None</td>\n",
       "      <td>{\\n\"Explanation\": \"The text describes the resp...</td>\n",
       "      <td>True</td>\n",
       "      <td>Transactional</td>\n",
       "    </tr>\n",
       "    <tr>\n",
       "      <th>14</th>\n",
       "      <td>-My first semester as an intern -Didnt really ...</td>\n",
       "      <td>None</td>\n",
       "      <td>{\\n\"Explanation\": \"Based on the given text ind...</td>\n",
       "      <td>True</td>\n",
       "      <td>Transactional</td>\n",
       "    </tr>\n",
       "    <tr>\n",
       "      <th>15</th>\n",
       "      <td>-Personal leadership -Capitalizing on my skill...</td>\n",
       "      <td>None</td>\n",
       "      <td>{\\n\"Explanation\": \"Based on the text, the inte...</td>\n",
       "      <td>True</td>\n",
       "      <td>Transactional</td>\n",
       "    </tr>\n",
       "    <tr>\n",
       "      <th>16</th>\n",
       "      <td>-When editing the fitness and tour video, I of...</td>\n",
       "      <td>None</td>\n",
       "      <td>{\\n\"Explanation\": \"Based on the text provided,...</td>\n",
       "      <td>True</td>\n",
       "      <td>Transformational</td>\n",
       "    </tr>\n",
       "    <tr>\n",
       "      <th>17</th>\n",
       "      <td>1 - Ability to learn new technology quickly 2 ...</td>\n",
       "      <td>None</td>\n",
       "      <td>{\"Explanation\": \"The text evaluates the intern...</td>\n",
       "      <td>True</td>\n",
       "      <td>None</td>\n",
       "    </tr>\n",
       "    <tr>\n",
       "      <th>18</th>\n",
       "      <td>1 intern was set on labeling cables, 1 was set...</td>\n",
       "      <td>None</td>\n",
       "      <td>{\\n\"Explanation\": \"The text does not provide a...</td>\n",
       "      <td>True</td>\n",
       "      <td>None</td>\n",
       "    </tr>\n",
       "    <tr>\n",
       "      <th>19</th>\n",
       "      <td>1) Daniel clearly has skills and knowledge tha...</td>\n",
       "      <td>Transformational</td>\n",
       "      <td>{\"Explanation\": \"Based on the employer's evalu...</td>\n",
       "      <td>True</td>\n",
       "      <td>Transformational</td>\n",
       "    </tr>\n",
       "    <tr>\n",
       "      <th>20</th>\n",
       "      <td>1) Seek out projects on his own2) Communicate ...</td>\n",
       "      <td>None</td>\n",
       "      <td>{\\n\"Explanation\": \"The text indicates a transa...</td>\n",
       "      <td>True</td>\n",
       "      <td>Transactional</td>\n",
       "    </tr>\n",
       "    <tr>\n",
       "      <th>21</th>\n",
       "      <td>1.)</td>\n",
       "      <td>None</td>\n",
       "      <td>{\\n\"Explanation\": \"The given text does not exp...</td>\n",
       "      <td>True</td>\n",
       "      <td>None</td>\n",
       "    </tr>\n",
       "    <tr>\n",
       "      <th>22</th>\n",
       "      <td>2)</td>\n",
       "      <td>None</td>\n",
       "      <td>{\\n\"Explanation\": \"The text indicates a more t...</td>\n",
       "      <td>True</td>\n",
       "      <td>Transactional</td>\n",
       "    </tr>\n",
       "    <tr>\n",
       "      <th>23</th>\n",
       "      <td>2nd year working for me and helped teach others\\n</td>\n",
       "      <td>Transformational</td>\n",
       "      <td>{\\n\"Explanation\": \"Based on the text provided,...</td>\n",
       "      <td>True</td>\n",
       "      <td>Transformational</td>\n",
       "    </tr>\n",
       "    <tr>\n",
       "      <th>24</th>\n",
       "      <td>3 - Dependable and ability to work independent...</td>\n",
       "      <td>None</td>\n",
       "      <td>{\\n\"Explanation\": \"The text describes the inte...</td>\n",
       "      <td>True</td>\n",
       "      <td>Transactional</td>\n",
       "    </tr>\n",
       "    <tr>\n",
       "      <th>25</th>\n",
       "      <td>A bottleneck was formed just before the second...</td>\n",
       "      <td>Transformational</td>\n",
       "      <td></td>\n",
       "      <td>False</td>\n",
       "      <td>None</td>\n",
       "    </tr>\n",
       "    <tr>\n",
       "      <th>26</th>\n",
       "      <td>A chain email was sent to everyone in the offi...</td>\n",
       "      <td>Transactional</td>\n",
       "      <td></td>\n",
       "      <td>False</td>\n",
       "      <td>None</td>\n",
       "    </tr>\n",
       "  </tbody>\n",
       "</table>\n",
       "</div>"
      ],
      "text/plain": [
       "                                         Labeled Data             Label  \\\n",
       "0                                                 NaN              None   \n",
       "1                                                  \\n              None   \n",
       "2               And then Alex can weigh in his ideas.              None   \n",
       "3    As Ally's career progresses, I have no doubt ...              None   \n",
       "4    Caleb did a lot of the work filming and editi...              None   \n",
       "5    I had to quickly deviate from my script and e...              None   \n",
       "6    Rather than holding a meeting about a problem...              None   \n",
       "7   ( The information is kinda vague because I don...              None   \n",
       "8           (Decipher and I share an office space.)\\n              None   \n",
       "9   (We had issues with programmers missing deadli...     Transactional   \n",
       "10  (this is repeated from before, but also with t...              None   \n",
       "11  , I had a meeting with my client and with a fe...              None   \n",
       "12  , she put me on a project that was more comput...              None   \n",
       "13  , the graphics interns make the logos and the ...              None   \n",
       "14  -My first semester as an intern -Didnt really ...              None   \n",
       "15  -Personal leadership -Capitalizing on my skill...              None   \n",
       "16  -When editing the fitness and tour video, I of...              None   \n",
       "17  1 - Ability to learn new technology quickly 2 ...              None   \n",
       "18  1 intern was set on labeling cables, 1 was set...              None   \n",
       "19  1) Daniel clearly has skills and knowledge tha...  Transformational   \n",
       "20  1) Seek out projects on his own2) Communicate ...              None   \n",
       "21                                                1.)              None   \n",
       "22                                                 2)              None   \n",
       "23  2nd year working for me and helped teach others\\n  Transformational   \n",
       "24  3 - Dependable and ability to work independent...              None   \n",
       "25  A bottleneck was formed just before the second...  Transformational   \n",
       "26  A chain email was sent to everyone in the offi...     Transactional   \n",
       "\n",
       "                                         Model Output  IsValidJSON  \\\n",
       "0   {\\n\"Explanation\": \"The given text is not enoug...         True   \n",
       "1   {\\n    \"Explanation\": \"The text indicates a mo...         True   \n",
       "2   {\\n\"Explanation\": \"The text suggests a more tr...         True   \n",
       "3   {\\n\"Explanation\": \"The text indicates a transf...         True   \n",
       "4   {\"Label\": \"Transactional\", \"Explanation\": \"The...         True   \n",
       "5   {\\n\"Explanation\": \"Transactional leadership is...         True   \n",
       "6   {\\n\"Explanation\": \"The text provided indicates...         True   \n",
       "7   {\\n\"Explanation\": \"Based on the given text, it...         True   \n",
       "8   {\"Explanation\": \"The provided text does not co...         True   \n",
       "9   {\\n\"Explanation\": \"The text indicates a more t...         True   \n",
       "10  {\"Explanation\": \"The text provided only provid...         True   \n",
       "11  {\\n\"Explanation\": \"Based on the text provided,...         True   \n",
       "12  {\\n\"Explanation\": \"The text shows a transactio...         True   \n",
       "13  {\\n\"Explanation\": \"The text describes the resp...         True   \n",
       "14  {\\n\"Explanation\": \"Based on the given text ind...         True   \n",
       "15  {\\n\"Explanation\": \"Based on the text, the inte...         True   \n",
       "16  {\\n\"Explanation\": \"Based on the text provided,...         True   \n",
       "17  {\"Explanation\": \"The text evaluates the intern...         True   \n",
       "18  {\\n\"Explanation\": \"The text does not provide a...         True   \n",
       "19  {\"Explanation\": \"Based on the employer's evalu...         True   \n",
       "20  {\\n\"Explanation\": \"The text indicates a transa...         True   \n",
       "21  {\\n\"Explanation\": \"The given text does not exp...         True   \n",
       "22  {\\n\"Explanation\": \"The text indicates a more t...         True   \n",
       "23  {\\n\"Explanation\": \"Based on the text provided,...         True   \n",
       "24  {\\n\"Explanation\": \"The text describes the inte...         True   \n",
       "25                                                           False   \n",
       "26                                                           False   \n",
       "\n",
       "         Model Label  \n",
       "0               None  \n",
       "1   Transformational  \n",
       "2   Transformational  \n",
       "3   Transformational  \n",
       "4      Transactional  \n",
       "5      Transactional  \n",
       "6      Transactional  \n",
       "7            Unknown  \n",
       "8               None  \n",
       "9   Transformational  \n",
       "10     Transactional  \n",
       "11     Transactional  \n",
       "12     Transactional  \n",
       "13     Transactional  \n",
       "14     Transactional  \n",
       "15     Transactional  \n",
       "16  Transformational  \n",
       "17              None  \n",
       "18              None  \n",
       "19  Transformational  \n",
       "20     Transactional  \n",
       "21              None  \n",
       "22     Transactional  \n",
       "23  Transformational  \n",
       "24     Transactional  \n",
       "25              None  \n",
       "26              None  "
      ]
     },
     "execution_count": 23,
     "metadata": {},
     "output_type": "execute_result"
    }
   ],
   "source": [
    "replaced_labels_df.head(27)"
   ]
  },
  {
   "cell_type": "code",
   "execution_count": 24,
   "id": "d74b9756-712f-487f-ab08-abab9d63fb1b",
   "metadata": {},
   "outputs": [],
   "source": [
    "# Save results\n",
    "filename = 'replaced_labels_df1.pkl'\n",
    "replaced_labels_df.to_pickle(filename)"
   ]
  }
 ],
 "metadata": {
  "kernelspec": {
   "display_name": "Python 3 (ipykernel)",
   "language": "python",
   "name": "python3"
  },
  "language_info": {
   "codemirror_mode": {
    "name": "ipython",
    "version": 3
   },
   "file_extension": ".py",
   "mimetype": "text/x-python",
   "name": "python",
   "nbconvert_exporter": "python",
   "pygments_lexer": "ipython3",
   "version": "3.9.12"
  }
 },
 "nbformat": 4,
 "nbformat_minor": 5
}
