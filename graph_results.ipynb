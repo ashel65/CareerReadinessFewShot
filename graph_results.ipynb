{
 "cells": [
  {
   "cell_type": "code",
   "execution_count": 1,
   "id": "3fec94ce-56ca-42cf-8c39-4ddd32ec3c70",
   "metadata": {},
   "outputs": [
    {
     "name": "stdout",
     "output_type": "stream",
     "text": [
      "Defaulting to user installation because normal site-packages is not writeable\n",
      "Requirement already satisfied: pandas in /home/alshelt/.local/lib/python3.9/site-packages (2.1.2)\n",
      "Requirement already satisfied: numpy<2,>=1.22.4 in /home/alshelt/.local/lib/python3.9/site-packages (from pandas) (1.22.4)\n",
      "Requirement already satisfied: tzdata>=2022.1 in /home/alshelt/.local/lib/python3.9/site-packages (from pandas) (2023.3)\n",
      "Requirement already satisfied: pytz>=2020.1 in /software/spackages/linux-rocky8-x86_64/gcc-9.5.0/anaconda3-2022.05-zyrazrj6uvrtukupqzhaslr63w7hj6in/lib/python3.9/site-packages (from pandas) (2021.3)\n",
      "Requirement already satisfied: python-dateutil>=2.8.2 in /software/spackages/linux-rocky8-x86_64/gcc-9.5.0/anaconda3-2022.05-zyrazrj6uvrtukupqzhaslr63w7hj6in/lib/python3.9/site-packages (from pandas) (2.8.2)\n",
      "Requirement already satisfied: six>=1.5 in /software/spackages/linux-rocky8-x86_64/gcc-9.5.0/anaconda3-2022.05-zyrazrj6uvrtukupqzhaslr63w7hj6in/lib/python3.9/site-packages (from python-dateutil>=2.8.2->pandas) (1.16.0)\n"
     ]
    }
   ],
   "source": [
    "!pip install pandas\n",
    "import pandas as pd"
   ]
  },
  {
   "cell_type": "markdown",
   "id": "fe97453c-1751-4b21-a2ce-a859dba165ab",
   "metadata": {
    "tags": []
   },
   "source": [
    "# Load final results"
   ]
  },
  {
   "cell_type": "code",
   "execution_count": 2,
   "id": "429f0792-6537-4176-82a5-6e9aa077895b",
   "metadata": {
    "tags": []
   },
   "outputs": [
    {
     "data": {
      "text/html": [
       "<div>\n",
       "<style scoped>\n",
       "    .dataframe tbody tr th:only-of-type {\n",
       "        vertical-align: middle;\n",
       "    }\n",
       "\n",
       "    .dataframe tbody tr th {\n",
       "        vertical-align: top;\n",
       "    }\n",
       "\n",
       "    .dataframe thead th {\n",
       "        text-align: right;\n",
       "    }\n",
       "</style>\n",
       "<table border=\"1\" class=\"dataframe\">\n",
       "  <thead>\n",
       "    <tr style=\"text-align: right;\">\n",
       "      <th></th>\n",
       "      <th>Labeled Data</th>\n",
       "      <th>Label</th>\n",
       "      <th>Model Output</th>\n",
       "    </tr>\n",
       "  </thead>\n",
       "  <tbody>\n",
       "    <tr>\n",
       "      <th>0</th>\n",
       "      <td>NaN</td>\n",
       "      <td>NONE</td>\n",
       "      <td>{\\n\"Explanation\": \"The text in this example do...</td>\n",
       "    </tr>\n",
       "    <tr>\n",
       "      <th>1</th>\n",
       "      <td>\\n</td>\n",
       "      <td>NONE</td>\n",
       "      <td>{\\n\"Explanation\": \"Based on the text, the inte...</td>\n",
       "    </tr>\n",
       "    <tr>\n",
       "      <th>2</th>\n",
       "      <td>And then Alex can weigh in his ideas.</td>\n",
       "      <td>NONE</td>\n",
       "      <td>{\"Explanation\": \"The text suggests that Alex h...</td>\n",
       "    </tr>\n",
       "    <tr>\n",
       "      <th>3</th>\n",
       "      <td>As Ally's career progresses, I have no doubt ...</td>\n",
       "      <td>NONE</td>\n",
       "      <td>{\\n\"Explanation\": \"Transactional leadership is...</td>\n",
       "    </tr>\n",
       "    <tr>\n",
       "      <th>4</th>\n",
       "      <td>Caleb did a lot of the work filming and editi...</td>\n",
       "      <td>NONE</td>\n",
       "      <td>{\\n\"Explanation\": \"Based on the text given, it...</td>\n",
       "    </tr>\n",
       "    <tr>\n",
       "      <th>...</th>\n",
       "      <td>...</td>\n",
       "      <td>...</td>\n",
       "      <td>...</td>\n",
       "    </tr>\n",
       "    <tr>\n",
       "      <th>6154</th>\n",
       "      <td>when discussing new project ideas for the futu...</td>\n",
       "      <td>STC</td>\n",
       "      <td>{\"Explanation\": \"Based on the provided text, i...</td>\n",
       "    </tr>\n",
       "    <tr>\n",
       "      <th>6155</th>\n",
       "      <td>will also additionally take more responsibilit...</td>\n",
       "      <td>NONE</td>\n",
       "      <td>{\\n\"Explanation\": \"Based on the provided text,...</td>\n",
       "    </tr>\n",
       "    <tr>\n",
       "      <th>6156</th>\n",
       "      <td>worked collaboratively with the study abroad o...</td>\n",
       "      <td>NONE</td>\n",
       "      <td>{\\n\"Labeled Data\": \"worked collaboratively wit...</td>\n",
       "    </tr>\n",
       "    <tr>\n",
       "      <th>6157</th>\n",
       "      <td>worked solo\\n</td>\n",
       "      <td>NONE</td>\n",
       "      <td>{\\n\"Explanation\": \"Based on the provided text,...</td>\n",
       "    </tr>\n",
       "    <tr>\n",
       "      <th>6158</th>\n",
       "      <td>zxcZcZX\\n</td>\n",
       "      <td>NONE</td>\n",
       "      <td>{\\n\"Explanation\": \"The given text provides no ...</td>\n",
       "    </tr>\n",
       "  </tbody>\n",
       "</table>\n",
       "<p>6159 rows × 3 columns</p>\n",
       "</div>"
      ],
      "text/plain": [
       "                                           Labeled Data Label  \\\n",
       "0                                                   NaN  NONE   \n",
       "1                                                    \\n  NONE   \n",
       "2                 And then Alex can weigh in his ideas.  NONE   \n",
       "3      As Ally's career progresses, I have no doubt ...  NONE   \n",
       "4      Caleb did a lot of the work filming and editi...  NONE   \n",
       "...                                                 ...   ...   \n",
       "6154  when discussing new project ideas for the futu...   STC   \n",
       "6155  will also additionally take more responsibilit...  NONE   \n",
       "6156  worked collaboratively with the study abroad o...  NONE   \n",
       "6157                                      worked solo\\n  NONE   \n",
       "6158                                          zxcZcZX\\n  NONE   \n",
       "\n",
       "                                           Model Output  \n",
       "0     {\\n\"Explanation\": \"The text in this example do...  \n",
       "1     {\\n\"Explanation\": \"Based on the text, the inte...  \n",
       "2     {\"Explanation\": \"The text suggests that Alex h...  \n",
       "3     {\\n\"Explanation\": \"Transactional leadership is...  \n",
       "4     {\\n\"Explanation\": \"Based on the text given, it...  \n",
       "...                                                 ...  \n",
       "6154  {\"Explanation\": \"Based on the provided text, i...  \n",
       "6155  {\\n\"Explanation\": \"Based on the provided text,...  \n",
       "6156  {\\n\"Labeled Data\": \"worked collaboratively wit...  \n",
       "6157  {\\n\"Explanation\": \"Based on the provided text,...  \n",
       "6158  {\\n\"Explanation\": \"The given text provides no ...  \n",
       "\n",
       "[6159 rows x 3 columns]"
      ]
     },
     "execution_count": 2,
     "metadata": {},
     "output_type": "execute_result"
    }
   ],
   "source": [
    "# Load DataFrame from pickle file\n",
    "loaded_df = pd.read_pickle('results/model_output_valid.pkl')\n",
    "\n",
    "loaded_df"
   ]
  },
  {
   "cell_type": "code",
   "execution_count": 3,
   "id": "76a0cfce-1576-48b3-bc8a-dfaf7e55fa52",
   "metadata": {},
   "outputs": [
    {
     "data": {
      "text/html": [
       "<div>\n",
       "<style scoped>\n",
       "    .dataframe tbody tr th:only-of-type {\n",
       "        vertical-align: middle;\n",
       "    }\n",
       "\n",
       "    .dataframe tbody tr th {\n",
       "        vertical-align: top;\n",
       "    }\n",
       "\n",
       "    .dataframe thead th {\n",
       "        text-align: right;\n",
       "    }\n",
       "</style>\n",
       "<table border=\"1\" class=\"dataframe\">\n",
       "  <thead>\n",
       "    <tr style=\"text-align: right;\">\n",
       "      <th></th>\n",
       "      <th>Labeled Data</th>\n",
       "      <th>Label</th>\n",
       "      <th>Model Output</th>\n",
       "      <th>IsValidJSON</th>\n",
       "      <th>Model Label</th>\n",
       "    </tr>\n",
       "  </thead>\n",
       "  <tbody>\n",
       "    <tr>\n",
       "      <th>0</th>\n",
       "      <td>NaN</td>\n",
       "      <td>None</td>\n",
       "      <td>{\\n\"Explanation\": \"The text in this example do...</td>\n",
       "      <td>True</td>\n",
       "      <td>None</td>\n",
       "    </tr>\n",
       "    <tr>\n",
       "      <th>1</th>\n",
       "      <td>\\n</td>\n",
       "      <td>None</td>\n",
       "      <td>{\\n\"Explanation\": \"Based on the text, the inte...</td>\n",
       "      <td>True</td>\n",
       "      <td>Transformational</td>\n",
       "    </tr>\n",
       "    <tr>\n",
       "      <th>2</th>\n",
       "      <td>And then Alex can weigh in his ideas.</td>\n",
       "      <td>None</td>\n",
       "      <td>{\"Explanation\": \"The text suggests that Alex h...</td>\n",
       "      <td>True</td>\n",
       "      <td>Transactional</td>\n",
       "    </tr>\n",
       "    <tr>\n",
       "      <th>3</th>\n",
       "      <td>As Ally's career progresses, I have no doubt ...</td>\n",
       "      <td>None</td>\n",
       "      <td>{\\n\"Explanation\": \"Transactional leadership is...</td>\n",
       "      <td>True</td>\n",
       "      <td>None</td>\n",
       "    </tr>\n",
       "    <tr>\n",
       "      <th>4</th>\n",
       "      <td>Caleb did a lot of the work filming and editi...</td>\n",
       "      <td>None</td>\n",
       "      <td>{\\n\"Explanation\": \"Based on the text given, it...</td>\n",
       "      <td>True</td>\n",
       "      <td>Unknown</td>\n",
       "    </tr>\n",
       "    <tr>\n",
       "      <th>...</th>\n",
       "      <td>...</td>\n",
       "      <td>...</td>\n",
       "      <td>...</td>\n",
       "      <td>...</td>\n",
       "      <td>...</td>\n",
       "    </tr>\n",
       "    <tr>\n",
       "      <th>6154</th>\n",
       "      <td>when discussing new project ideas for the futu...</td>\n",
       "      <td>Transactional</td>\n",
       "      <td>{\"Explanation\": \"Based on the provided text, i...</td>\n",
       "      <td>True</td>\n",
       "      <td>Transactional</td>\n",
       "    </tr>\n",
       "    <tr>\n",
       "      <th>6155</th>\n",
       "      <td>will also additionally take more responsibilit...</td>\n",
       "      <td>None</td>\n",
       "      <td>{\\n\"Explanation\": \"Based on the provided text,...</td>\n",
       "      <td>True</td>\n",
       "      <td>Transactional</td>\n",
       "    </tr>\n",
       "    <tr>\n",
       "      <th>6156</th>\n",
       "      <td>worked collaboratively with the study abroad o...</td>\n",
       "      <td>None</td>\n",
       "      <td>{\\n\"Labeled Data\": \"worked collaboratively wit...</td>\n",
       "      <td>True</td>\n",
       "      <td>Transactional</td>\n",
       "    </tr>\n",
       "    <tr>\n",
       "      <th>6157</th>\n",
       "      <td>worked solo\\n</td>\n",
       "      <td>None</td>\n",
       "      <td>{\\n\"Explanation\": \"Based on the provided text,...</td>\n",
       "      <td>True</td>\n",
       "      <td>Neither</td>\n",
       "    </tr>\n",
       "    <tr>\n",
       "      <th>6158</th>\n",
       "      <td>zxcZcZX\\n</td>\n",
       "      <td>None</td>\n",
       "      <td>{\\n\"Explanation\": \"The given text provides no ...</td>\n",
       "      <td>True</td>\n",
       "      <td>None</td>\n",
       "    </tr>\n",
       "  </tbody>\n",
       "</table>\n",
       "<p>6159 rows × 5 columns</p>\n",
       "</div>"
      ],
      "text/plain": [
       "                                           Labeled Data          Label  \\\n",
       "0                                                   NaN           None   \n",
       "1                                                    \\n           None   \n",
       "2                 And then Alex can weigh in his ideas.           None   \n",
       "3      As Ally's career progresses, I have no doubt ...           None   \n",
       "4      Caleb did a lot of the work filming and editi...           None   \n",
       "...                                                 ...            ...   \n",
       "6154  when discussing new project ideas for the futu...  Transactional   \n",
       "6155  will also additionally take more responsibilit...           None   \n",
       "6156  worked collaboratively with the study abroad o...           None   \n",
       "6157                                      worked solo\\n           None   \n",
       "6158                                          zxcZcZX\\n           None   \n",
       "\n",
       "                                           Model Output  IsValidJSON  \\\n",
       "0     {\\n\"Explanation\": \"The text in this example do...         True   \n",
       "1     {\\n\"Explanation\": \"Based on the text, the inte...         True   \n",
       "2     {\"Explanation\": \"The text suggests that Alex h...         True   \n",
       "3     {\\n\"Explanation\": \"Transactional leadership is...         True   \n",
       "4     {\\n\"Explanation\": \"Based on the text given, it...         True   \n",
       "...                                                 ...          ...   \n",
       "6154  {\"Explanation\": \"Based on the provided text, i...         True   \n",
       "6155  {\\n\"Explanation\": \"Based on the provided text,...         True   \n",
       "6156  {\\n\"Labeled Data\": \"worked collaboratively wit...         True   \n",
       "6157  {\\n\"Explanation\": \"Based on the provided text,...         True   \n",
       "6158  {\\n\"Explanation\": \"The given text provides no ...         True   \n",
       "\n",
       "           Model Label  \n",
       "0                 None  \n",
       "1     Transformational  \n",
       "2        Transactional  \n",
       "3                 None  \n",
       "4              Unknown  \n",
       "...                ...  \n",
       "6154     Transactional  \n",
       "6155     Transactional  \n",
       "6156     Transactional  \n",
       "6157           Neither  \n",
       "6158              None  \n",
       "\n",
       "[6159 rows x 5 columns]"
      ]
     },
     "execution_count": 3,
     "metadata": {},
     "output_type": "execute_result"
    }
   ],
   "source": [
    "# Load DataFrame from pickle file\n",
    "replaced_labels_df = pd.read_pickle('results/replaced_labels_df.pkl')\n",
    "\n",
    "replaced_labels_df"
   ]
  },
  {
   "cell_type": "code",
   "execution_count": 4,
   "id": "f747928c-61b2-4b5c-8cf6-8aee3192c972",
   "metadata": {},
   "outputs": [
    {
     "name": "stdout",
     "output_type": "stream",
     "text": [
      "Loaded dictionary: {2: 1077, 1: 4598, 3: 327, 4: 111, 5: 32, 7: 5, 6: 6, 8: 2, 10: 1}\n"
     ]
    }
   ],
   "source": [
    "import pickle\n",
    "\n",
    "# Open the file containing the pickled dictionary in read-binary mode\n",
    "with open('results/invalid_json_counts.pkl', 'rb') as file:\n",
    "    # Load the dictionary from the file\n",
    "    invalid_json_counts = pickle.load(file)\n",
    "\n",
    "print(\"Loaded dictionary:\", invalid_json_counts)"
   ]
  },
  {
   "cell_type": "code",
   "execution_count": 5,
   "id": "f863fe96-35c3-462c-abda-fb42e1d056cb",
   "metadata": {},
   "outputs": [
    {
     "data": {
      "image/png": "[encoded data removed]",
      "text/plain": [
       "<Figure size 720x432 with 1 Axes>"
      ]
     },
     "metadata": {
      "needs_background": "light"
     },
     "output_type": "display_data"
    }
   ],
   "source": [
    "import matplotlib.pyplot as plt\n",
    "\n",
    "# Sort the dictionary by keys (number of times a response had to be generated)\n",
    "sorted_data = dict(sorted(invalid_json_counts.items()))\n",
    "\n",
    "# Plotting\n",
    "plt.figure(figsize=(10, 6))\n",
    "plt.bar(sorted_data.keys(), sorted_data.values(), color='skyblue')\n",
    "plt.xlabel('Number of Attempts to Get Valid JSON')\n",
    "plt.ylabel('Count')\n",
    "plt.title('Distribution of Attempts to Get Valid JSON')\n",
    "plt.xticks(list(sorted_data.keys()))  # Set x-ticks to be the keys in the dictionary\n",
    "plt.show()"
   ]
  },
  {
   "cell_type": "code",
   "execution_count": 6,
   "id": "0cae0ac3-5df2-46b8-8b7a-a31c008868e8",
   "metadata": {},
   "outputs": [
    {
     "name": "stdout",
     "output_type": "stream",
     "text": [
      "Number of matching labels in the first 6159 rows: 1800\n"
     ]
    }
   ],
   "source": [
    "# The number of rows to consider in the comparison\n",
    "n = len(replaced_labels_df)\n",
    "n = min(n, len(replaced_labels_df))\n",
    "\n",
    "# Compare the columns and count matches for the first n rows\n",
    "matches = (replaced_labels_df['Model Label'].iloc[:n] == replaced_labels_df['Label'].iloc[:n]).sum()\n",
    "\n",
    "print(f\"Number of matching labels in the first {n} rows: {matches}\")"
   ]
  },
  {
   "cell_type": "code",
   "execution_count": 7,
   "id": "017c8936-53ab-47ce-b210-eede98b719b9",
   "metadata": {},
   "outputs": [
    {
     "data": {
      "image/png": "[encoded data removed]",
      "text/plain": [
       "<Figure size 576x432 with 2 Axes>"
      ]
     },
     "metadata": {
      "needs_background": "light"
     },
     "output_type": "display_data"
    }
   ],
   "source": [
    "import matplotlib.pyplot as plt\n",
    "import seaborn as sns\n",
    "from sklearn.metrics import confusion_matrix, accuracy_score\n",
    "\n",
    "df = pd.DataFrame(replaced_labels_df)\n",
    "\n",
    "# Preprocess Data\n",
    "# Replace invalid labels in 'Model Label' with 'None'\n",
    "valid_labels = ['Transactional', 'Transformational', 'None']\n",
    "df['Model Label'] = df['Model Label'].apply(lambda x: x if x in valid_labels else 'None')\n",
    "\n",
    "# Create the Confusion Matrix\n",
    "cm = confusion_matrix(df['Label'], df['Model Label'], labels=valid_labels)\n",
    "\n",
    "# Calculate Accuracy\n",
    "accuracy = accuracy_score(df['Label'], df['Model Label'])\n",
    "\n",
    "# Plotting the Confusion Matrix\n",
    "plt.figure(figsize=(8, 6))\n",
    "sns.heatmap(cm, annot=True, fmt='d', cmap='Blues', xticklabels=valid_labels, yticklabels=valid_labels)\n",
    "plt.title('Confusion Matrix')\n",
    "plt.ylabel('True Label')\n",
    "plt.xlabel('Predicted Label')\n",
    "plt.show()"
   ]
  }
 ],
 "metadata": {
  "kernelspec": {
   "display_name": "Python 3 (ipykernel)",
   "language": "python",
   "name": "python3"
  },
  "language_info": {
   "codemirror_mode": {
    "name": "ipython",
    "version": 3
   },
   "file_extension": ".py",
   "mimetype": "text/x-python",
   "name": "python",
   "nbconvert_exporter": "python",
   "pygments_lexer": "ipython3",
   "version": "3.9.12"
  }
 },
 "nbformat": 4,
 "nbformat_minor": 5
}
